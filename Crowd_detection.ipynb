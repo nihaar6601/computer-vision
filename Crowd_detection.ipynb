{
 "cells": [
  {
   "cell_type": "code",
   "execution_count": 1,
   "metadata": {
    "id": "g7XCYQQLeVMw"
   },
   "outputs": [],
   "source": [
    "import numpy as np\n",
    "import pandas as pd\n",
    "import os\n",
    "import csv\n",
    "import cv2\n",
    "from sklearn.cluster import KMeans\n",
    "from sklearn.model_selection import train_test_split\n",
    "from sklearn.metrics import classification_report\n",
    "from sklearn.tree import DecisionTreeClassifier\n",
    "import sklearn.metrics as metrics\n",
    "from sklearn.metrics import accuracy_score\n",
    "from sklearn.preprocessing import Normalizer"
   ]
  },
  {
   "cell_type": "code",
   "execution_count": 2,
   "metadata": {
    "id": "xL3CRFEIeVM0"
   },
   "outputs": [],
   "source": [
    "folder1=r\"D:\\CV_datasets\\370x370\\crowded\"\n",
    "folder2=r\"D:\\CV_datasets\\370x370\\Non-crowded\""
   ]
  },
  {
   "cell_type": "code",
   "execution_count": 3,
   "metadata": {
    "id": "IuqfTHnOeVM1",
    "outputId": "31197bc9-0461-49ef-d4b8-8102cc4e6ac6"
   },
   "outputs": [],
   "source": [
    "i=0\n",
    "for filename in os.listdir(folder1):\n",
    "    #path\n",
    "    path=os.path.join(folder1,filename)\n",
    "    a=cv2.imread(path)\n",
    "    if a is None:\n",
    "        continue\n",
    "    \n",
    "    #resize image\n",
    "    resize=(100,300)\n",
    "    img=cv2.resize(a,resize)\n",
    "    \n",
    "    resultimage = np.zeros((100, 300))\n",
    "   \n",
    "    #normalizing the given image using normalize() function\n",
    "    nimg = cv2.normalize(img,resultimage, 0, 255, cv2.NORM_MINMAX)\n",
    "    \n",
    "    #gray image\n",
    "    gray = cv2.cvtColor(nimg, cv2.COLOR_BGR2GRAY)\n",
    "    hist_image=cv2.equalizeHist(gray)\n",
    "    \n",
    "    \n",
    "    #initialise sift descriptor\n",
    "    sift=cv2.xfeatures2d.SIFT_create()\n",
    "    keypoints, descriptors = sift.detectAndCompute(hist_image, None)\n",
    "    \n",
    "    \n",
    "    #convert the descriptor array into a dataframe format\n",
    "    out=pd.DataFrame(descriptors)\n",
    "    #print(\"descriptor shape \",i,\" : \", out.shape)\n",
    "    i=i+1\n",
    "    \n",
    "    #drop first coloumn as it's the no of feature detected. Not required.\n",
    "    #append to the csv file\n",
    "    csv_data=out.to_csv(r'D:\\CV_datasets\\370x370\\crowded.csv', mode='a', header=False,index=False)"
   ]
  },
  {
   "cell_type": "code",
   "execution_count": 4,
   "metadata": {
    "id": "Tm8MqUbheVM3",
    "outputId": "737de6e7-2847-4656-aafd-751b6ccb5226"
   },
   "outputs": [
    {
     "data": {
      "text/html": [
       "<div>\n",
       "<style scoped>\n",
       "    .dataframe tbody tr th:only-of-type {\n",
       "        vertical-align: middle;\n",
       "    }\n",
       "\n",
       "    .dataframe tbody tr th {\n",
       "        vertical-align: top;\n",
       "    }\n",
       "\n",
       "    .dataframe thead th {\n",
       "        text-align: right;\n",
       "    }\n",
       "</style>\n",
       "<table border=\"1\" class=\"dataframe\">\n",
       "  <thead>\n",
       "    <tr style=\"text-align: right;\">\n",
       "      <th></th>\n",
       "      <th>0</th>\n",
       "      <th>1</th>\n",
       "      <th>2</th>\n",
       "      <th>3</th>\n",
       "      <th>4</th>\n",
       "      <th>5</th>\n",
       "      <th>6</th>\n",
       "      <th>7</th>\n",
       "      <th>8</th>\n",
       "      <th>9</th>\n",
       "      <th>...</th>\n",
       "      <th>118</th>\n",
       "      <th>119</th>\n",
       "      <th>120</th>\n",
       "      <th>121</th>\n",
       "      <th>122</th>\n",
       "      <th>123</th>\n",
       "      <th>124</th>\n",
       "      <th>125</th>\n",
       "      <th>126</th>\n",
       "      <th>127</th>\n",
       "    </tr>\n",
       "  </thead>\n",
       "  <tbody>\n",
       "    <tr>\n",
       "      <th>0</th>\n",
       "      <td>96.0</td>\n",
       "      <td>8.0</td>\n",
       "      <td>3.0</td>\n",
       "      <td>41.0</td>\n",
       "      <td>10.0</td>\n",
       "      <td>0.0</td>\n",
       "      <td>0.0</td>\n",
       "      <td>15.0</td>\n",
       "      <td>156.0</td>\n",
       "      <td>26.0</td>\n",
       "      <td>...</td>\n",
       "      <td>9.0</td>\n",
       "      <td>11.0</td>\n",
       "      <td>0.0</td>\n",
       "      <td>0.0</td>\n",
       "      <td>0.0</td>\n",
       "      <td>0.0</td>\n",
       "      <td>0.0</td>\n",
       "      <td>0.0</td>\n",
       "      <td>0.0</td>\n",
       "      <td>0.0</td>\n",
       "    </tr>\n",
       "    <tr>\n",
       "      <th>1</th>\n",
       "      <td>0.0</td>\n",
       "      <td>0.0</td>\n",
       "      <td>0.0</td>\n",
       "      <td>5.0</td>\n",
       "      <td>48.0</td>\n",
       "      <td>7.0</td>\n",
       "      <td>0.0</td>\n",
       "      <td>0.0</td>\n",
       "      <td>68.0</td>\n",
       "      <td>16.0</td>\n",
       "      <td>...</td>\n",
       "      <td>1.0</td>\n",
       "      <td>2.0</td>\n",
       "      <td>15.0</td>\n",
       "      <td>17.0</td>\n",
       "      <td>10.0</td>\n",
       "      <td>26.0</td>\n",
       "      <td>142.0</td>\n",
       "      <td>20.0</td>\n",
       "      <td>0.0</td>\n",
       "      <td>0.0</td>\n",
       "    </tr>\n",
       "    <tr>\n",
       "      <th>2</th>\n",
       "      <td>2.0</td>\n",
       "      <td>3.0</td>\n",
       "      <td>18.0</td>\n",
       "      <td>5.0</td>\n",
       "      <td>0.0</td>\n",
       "      <td>3.0</td>\n",
       "      <td>14.0</td>\n",
       "      <td>3.0</td>\n",
       "      <td>15.0</td>\n",
       "      <td>5.0</td>\n",
       "      <td>...</td>\n",
       "      <td>0.0</td>\n",
       "      <td>0.0</td>\n",
       "      <td>0.0</td>\n",
       "      <td>0.0</td>\n",
       "      <td>0.0</td>\n",
       "      <td>0.0</td>\n",
       "      <td>0.0</td>\n",
       "      <td>0.0</td>\n",
       "      <td>0.0</td>\n",
       "      <td>0.0</td>\n",
       "    </tr>\n",
       "    <tr>\n",
       "      <th>3</th>\n",
       "      <td>73.0</td>\n",
       "      <td>94.0</td>\n",
       "      <td>12.0</td>\n",
       "      <td>0.0</td>\n",
       "      <td>2.0</td>\n",
       "      <td>4.0</td>\n",
       "      <td>0.0</td>\n",
       "      <td>0.0</td>\n",
       "      <td>34.0</td>\n",
       "      <td>132.0</td>\n",
       "      <td>...</td>\n",
       "      <td>7.0</td>\n",
       "      <td>68.0</td>\n",
       "      <td>69.0</td>\n",
       "      <td>11.0</td>\n",
       "      <td>0.0</td>\n",
       "      <td>0.0</td>\n",
       "      <td>0.0</td>\n",
       "      <td>0.0</td>\n",
       "      <td>0.0</td>\n",
       "      <td>4.0</td>\n",
       "    </tr>\n",
       "    <tr>\n",
       "      <th>4</th>\n",
       "      <td>42.0</td>\n",
       "      <td>12.0</td>\n",
       "      <td>1.0</td>\n",
       "      <td>4.0</td>\n",
       "      <td>169.0</td>\n",
       "      <td>11.0</td>\n",
       "      <td>1.0</td>\n",
       "      <td>2.0</td>\n",
       "      <td>169.0</td>\n",
       "      <td>37.0</td>\n",
       "      <td>...</td>\n",
       "      <td>20.0</td>\n",
       "      <td>12.0</td>\n",
       "      <td>0.0</td>\n",
       "      <td>0.0</td>\n",
       "      <td>0.0</td>\n",
       "      <td>0.0</td>\n",
       "      <td>0.0</td>\n",
       "      <td>0.0</td>\n",
       "      <td>0.0</td>\n",
       "      <td>0.0</td>\n",
       "    </tr>\n",
       "    <tr>\n",
       "      <th>...</th>\n",
       "      <td>...</td>\n",
       "      <td>...</td>\n",
       "      <td>...</td>\n",
       "      <td>...</td>\n",
       "      <td>...</td>\n",
       "      <td>...</td>\n",
       "      <td>...</td>\n",
       "      <td>...</td>\n",
       "      <td>...</td>\n",
       "      <td>...</td>\n",
       "      <td>...</td>\n",
       "      <td>...</td>\n",
       "      <td>...</td>\n",
       "      <td>...</td>\n",
       "      <td>...</td>\n",
       "      <td>...</td>\n",
       "      <td>...</td>\n",
       "      <td>...</td>\n",
       "      <td>...</td>\n",
       "      <td>...</td>\n",
       "      <td>...</td>\n",
       "    </tr>\n",
       "    <tr>\n",
       "      <th>884240</th>\n",
       "      <td>17.0</td>\n",
       "      <td>2.0</td>\n",
       "      <td>0.0</td>\n",
       "      <td>3.0</td>\n",
       "      <td>130.0</td>\n",
       "      <td>17.0</td>\n",
       "      <td>0.0</td>\n",
       "      <td>0.0</td>\n",
       "      <td>145.0</td>\n",
       "      <td>6.0</td>\n",
       "      <td>...</td>\n",
       "      <td>1.0</td>\n",
       "      <td>3.0</td>\n",
       "      <td>4.0</td>\n",
       "      <td>6.0</td>\n",
       "      <td>4.0</td>\n",
       "      <td>2.0</td>\n",
       "      <td>50.0</td>\n",
       "      <td>53.0</td>\n",
       "      <td>1.0</td>\n",
       "      <td>1.0</td>\n",
       "    </tr>\n",
       "    <tr>\n",
       "      <th>884241</th>\n",
       "      <td>31.0</td>\n",
       "      <td>1.0</td>\n",
       "      <td>0.0</td>\n",
       "      <td>0.0</td>\n",
       "      <td>6.0</td>\n",
       "      <td>5.0</td>\n",
       "      <td>2.0</td>\n",
       "      <td>17.0</td>\n",
       "      <td>45.0</td>\n",
       "      <td>11.0</td>\n",
       "      <td>...</td>\n",
       "      <td>1.0</td>\n",
       "      <td>32.0</td>\n",
       "      <td>9.0</td>\n",
       "      <td>17.0</td>\n",
       "      <td>12.0</td>\n",
       "      <td>19.0</td>\n",
       "      <td>69.0</td>\n",
       "      <td>22.0</td>\n",
       "      <td>1.0</td>\n",
       "      <td>1.0</td>\n",
       "    </tr>\n",
       "    <tr>\n",
       "      <th>884242</th>\n",
       "      <td>12.0</td>\n",
       "      <td>0.0</td>\n",
       "      <td>6.0</td>\n",
       "      <td>50.0</td>\n",
       "      <td>40.0</td>\n",
       "      <td>13.0</td>\n",
       "      <td>15.0</td>\n",
       "      <td>65.0</td>\n",
       "      <td>10.0</td>\n",
       "      <td>28.0</td>\n",
       "      <td>...</td>\n",
       "      <td>1.0</td>\n",
       "      <td>86.0</td>\n",
       "      <td>126.0</td>\n",
       "      <td>1.0</td>\n",
       "      <td>1.0</td>\n",
       "      <td>4.0</td>\n",
       "      <td>19.0</td>\n",
       "      <td>2.0</td>\n",
       "      <td>0.0</td>\n",
       "      <td>90.0</td>\n",
       "    </tr>\n",
       "    <tr>\n",
       "      <th>884243</th>\n",
       "      <td>34.0</td>\n",
       "      <td>2.0</td>\n",
       "      <td>0.0</td>\n",
       "      <td>9.0</td>\n",
       "      <td>50.0</td>\n",
       "      <td>4.0</td>\n",
       "      <td>3.0</td>\n",
       "      <td>16.0</td>\n",
       "      <td>126.0</td>\n",
       "      <td>5.0</td>\n",
       "      <td>...</td>\n",
       "      <td>0.0</td>\n",
       "      <td>122.0</td>\n",
       "      <td>48.0</td>\n",
       "      <td>0.0</td>\n",
       "      <td>0.0</td>\n",
       "      <td>43.0</td>\n",
       "      <td>117.0</td>\n",
       "      <td>0.0</td>\n",
       "      <td>1.0</td>\n",
       "      <td>56.0</td>\n",
       "    </tr>\n",
       "    <tr>\n",
       "      <th>884244</th>\n",
       "      <td>78.0</td>\n",
       "      <td>27.0</td>\n",
       "      <td>15.0</td>\n",
       "      <td>146.0</td>\n",
       "      <td>136.0</td>\n",
       "      <td>3.0</td>\n",
       "      <td>0.0</td>\n",
       "      <td>7.0</td>\n",
       "      <td>139.0</td>\n",
       "      <td>6.0</td>\n",
       "      <td>...</td>\n",
       "      <td>12.0</td>\n",
       "      <td>22.0</td>\n",
       "      <td>0.0</td>\n",
       "      <td>0.0</td>\n",
       "      <td>0.0</td>\n",
       "      <td>0.0</td>\n",
       "      <td>0.0</td>\n",
       "      <td>0.0</td>\n",
       "      <td>0.0</td>\n",
       "      <td>0.0</td>\n",
       "    </tr>\n",
       "  </tbody>\n",
       "</table>\n",
       "<p>884245 rows × 128 columns</p>\n",
       "</div>"
      ],
      "text/plain": [
       "         0     1     2      3      4     5     6     7      8      9    ...  \\\n",
       "0       96.0   8.0   3.0   41.0   10.0   0.0   0.0  15.0  156.0   26.0  ...   \n",
       "1        0.0   0.0   0.0    5.0   48.0   7.0   0.0   0.0   68.0   16.0  ...   \n",
       "2        2.0   3.0  18.0    5.0    0.0   3.0  14.0   3.0   15.0    5.0  ...   \n",
       "3       73.0  94.0  12.0    0.0    2.0   4.0   0.0   0.0   34.0  132.0  ...   \n",
       "4       42.0  12.0   1.0    4.0  169.0  11.0   1.0   2.0  169.0   37.0  ...   \n",
       "...      ...   ...   ...    ...    ...   ...   ...   ...    ...    ...  ...   \n",
       "884240  17.0   2.0   0.0    3.0  130.0  17.0   0.0   0.0  145.0    6.0  ...   \n",
       "884241  31.0   1.0   0.0    0.0    6.0   5.0   2.0  17.0   45.0   11.0  ...   \n",
       "884242  12.0   0.0   6.0   50.0   40.0  13.0  15.0  65.0   10.0   28.0  ...   \n",
       "884243  34.0   2.0   0.0    9.0   50.0   4.0   3.0  16.0  126.0    5.0  ...   \n",
       "884244  78.0  27.0  15.0  146.0  136.0   3.0   0.0   7.0  139.0    6.0  ...   \n",
       "\n",
       "         118    119    120   121   122   123    124   125  126   127  \n",
       "0        9.0   11.0    0.0   0.0   0.0   0.0    0.0   0.0  0.0   0.0  \n",
       "1        1.0    2.0   15.0  17.0  10.0  26.0  142.0  20.0  0.0   0.0  \n",
       "2        0.0    0.0    0.0   0.0   0.0   0.0    0.0   0.0  0.0   0.0  \n",
       "3        7.0   68.0   69.0  11.0   0.0   0.0    0.0   0.0  0.0   4.0  \n",
       "4       20.0   12.0    0.0   0.0   0.0   0.0    0.0   0.0  0.0   0.0  \n",
       "...      ...    ...    ...   ...   ...   ...    ...   ...  ...   ...  \n",
       "884240   1.0    3.0    4.0   6.0   4.0   2.0   50.0  53.0  1.0   1.0  \n",
       "884241   1.0   32.0    9.0  17.0  12.0  19.0   69.0  22.0  1.0   1.0  \n",
       "884242   1.0   86.0  126.0   1.0   1.0   4.0   19.0   2.0  0.0  90.0  \n",
       "884243   0.0  122.0   48.0   0.0   0.0  43.0  117.0   0.0  1.0  56.0  \n",
       "884244  12.0   22.0    0.0   0.0   0.0   0.0    0.0   0.0  0.0   0.0  \n",
       "\n",
       "[884245 rows x 128 columns]"
      ]
     },
     "execution_count": 4,
     "metadata": {},
     "output_type": "execute_result"
    }
   ],
   "source": [
    "data1 = pd.read_csv(r'D:\\CV_datasets\\370x370\\crowded.csv',header=None,dtype='float64')\n",
    "#MemoryError: Unable to allocate 166. MiB for an array with shape (128, 169606) and data type float64,\n",
    "#Double-precision floating-point format\n",
    "\n",
    "data1=data1.astype(np.float64) \n",
    "#as unit8 contain 1 byte(8bit) and ranges from 0 to 255\n",
    "data1"
   ]
  },
  {
   "cell_type": "code",
   "execution_count": 5,
   "metadata": {
    "id": "z-uyFCr5eVM3",
    "outputId": "532e3f90-2b37-417a-b0c6-92c6f51337ee"
   },
   "outputs": [],
   "source": [
    "i=0\n",
    "for filename in os.listdir(folder2):\n",
    "    \n",
    "    path=os.path.join(folder2,filename)\n",
    "    a=cv2.imread(path)\n",
    "    if a is None:\n",
    "        continue\n",
    "    \n",
    "    #resize image\n",
    "    resize=(100,300)\n",
    "    img=cv2.resize(a,resize)\n",
    "    resultimage = np.zeros((100, 300))\n",
    "   \n",
    "    #normalizing the given image using normalize() function\n",
    "    nimg = cv2.normalize(img,resultimage, 0, 255, cv2.NORM_MINMAX)\n",
    "    \n",
    "    \n",
    "    gray = cv2.cvtColor(nimg, cv2.COLOR_BGR2GRAY)\n",
    "    hist_image=cv2.equalizeHist(gray)\n",
    "    \n",
    "    #initialise sift descriptor\n",
    "    sift = cv2.xfeatures2d.SIFT_create()\n",
    "    keypoints, descriptors = sift.detectAndCompute(hist_image, None)\n",
    "    \n",
    "    #convert the descriptor array into a dataframe format\n",
    "    out=pd.DataFrame(descriptors)\n",
    "    #print(\"descriptor shape \",i,\" : \", out.shape)\n",
    "    i=i+1\n",
    "    #drop first coloumn as it's the no of feature detected. Not required.\n",
    "    #append to the csv file\n",
    "    csv_data=out.to_csv(r'D:\\CV_datasets\\370x370\\Non-crowded.csv', mode='a', header=False,index=False)"
   ]
  },
  {
   "cell_type": "code",
   "execution_count": 6,
   "metadata": {
    "id": "S-G8uCT-eVM6",
    "outputId": "f4a69cda-6adf-42a0-ab98-de0c3074a3bf"
   },
   "outputs": [
    {
     "data": {
      "text/html": [
       "<div>\n",
       "<style scoped>\n",
       "    .dataframe tbody tr th:only-of-type {\n",
       "        vertical-align: middle;\n",
       "    }\n",
       "\n",
       "    .dataframe tbody tr th {\n",
       "        vertical-align: top;\n",
       "    }\n",
       "\n",
       "    .dataframe thead th {\n",
       "        text-align: right;\n",
       "    }\n",
       "</style>\n",
       "<table border=\"1\" class=\"dataframe\">\n",
       "  <thead>\n",
       "    <tr style=\"text-align: right;\">\n",
       "      <th></th>\n",
       "      <th>0</th>\n",
       "      <th>1</th>\n",
       "      <th>2</th>\n",
       "      <th>3</th>\n",
       "      <th>4</th>\n",
       "      <th>5</th>\n",
       "      <th>6</th>\n",
       "      <th>7</th>\n",
       "      <th>8</th>\n",
       "      <th>9</th>\n",
       "      <th>...</th>\n",
       "      <th>118</th>\n",
       "      <th>119</th>\n",
       "      <th>120</th>\n",
       "      <th>121</th>\n",
       "      <th>122</th>\n",
       "      <th>123</th>\n",
       "      <th>124</th>\n",
       "      <th>125</th>\n",
       "      <th>126</th>\n",
       "      <th>127</th>\n",
       "    </tr>\n",
       "  </thead>\n",
       "  <tbody>\n",
       "    <tr>\n",
       "      <th>0</th>\n",
       "      <td>3.0</td>\n",
       "      <td>7.0</td>\n",
       "      <td>10.0</td>\n",
       "      <td>41.0</td>\n",
       "      <td>61.0</td>\n",
       "      <td>22.0</td>\n",
       "      <td>5.0</td>\n",
       "      <td>1.0</td>\n",
       "      <td>11.0</td>\n",
       "      <td>12.0</td>\n",
       "      <td>...</td>\n",
       "      <td>0.0</td>\n",
       "      <td>4.0</td>\n",
       "      <td>1.0</td>\n",
       "      <td>4.0</td>\n",
       "      <td>5.0</td>\n",
       "      <td>16.0</td>\n",
       "      <td>7.0</td>\n",
       "      <td>0.0</td>\n",
       "      <td>0.0</td>\n",
       "      <td>0.0</td>\n",
       "    </tr>\n",
       "    <tr>\n",
       "      <th>1</th>\n",
       "      <td>1.0</td>\n",
       "      <td>6.0</td>\n",
       "      <td>93.0</td>\n",
       "      <td>45.0</td>\n",
       "      <td>18.0</td>\n",
       "      <td>63.0</td>\n",
       "      <td>26.0</td>\n",
       "      <td>19.0</td>\n",
       "      <td>33.0</td>\n",
       "      <td>32.0</td>\n",
       "      <td>...</td>\n",
       "      <td>19.0</td>\n",
       "      <td>1.0</td>\n",
       "      <td>0.0</td>\n",
       "      <td>1.0</td>\n",
       "      <td>0.0</td>\n",
       "      <td>0.0</td>\n",
       "      <td>0.0</td>\n",
       "      <td>0.0</td>\n",
       "      <td>0.0</td>\n",
       "      <td>0.0</td>\n",
       "    </tr>\n",
       "    <tr>\n",
       "      <th>2</th>\n",
       "      <td>0.0</td>\n",
       "      <td>0.0</td>\n",
       "      <td>0.0</td>\n",
       "      <td>0.0</td>\n",
       "      <td>0.0</td>\n",
       "      <td>0.0</td>\n",
       "      <td>0.0</td>\n",
       "      <td>0.0</td>\n",
       "      <td>79.0</td>\n",
       "      <td>31.0</td>\n",
       "      <td>...</td>\n",
       "      <td>9.0</td>\n",
       "      <td>31.0</td>\n",
       "      <td>27.0</td>\n",
       "      <td>9.0</td>\n",
       "      <td>5.0</td>\n",
       "      <td>42.0</td>\n",
       "      <td>33.0</td>\n",
       "      <td>4.0</td>\n",
       "      <td>40.0</td>\n",
       "      <td>116.0</td>\n",
       "    </tr>\n",
       "    <tr>\n",
       "      <th>3</th>\n",
       "      <td>1.0</td>\n",
       "      <td>6.0</td>\n",
       "      <td>5.0</td>\n",
       "      <td>0.0</td>\n",
       "      <td>0.0</td>\n",
       "      <td>1.0</td>\n",
       "      <td>1.0</td>\n",
       "      <td>0.0</td>\n",
       "      <td>29.0</td>\n",
       "      <td>71.0</td>\n",
       "      <td>...</td>\n",
       "      <td>1.0</td>\n",
       "      <td>3.0</td>\n",
       "      <td>3.0</td>\n",
       "      <td>40.0</td>\n",
       "      <td>84.0</td>\n",
       "      <td>56.0</td>\n",
       "      <td>13.0</td>\n",
       "      <td>3.0</td>\n",
       "      <td>2.0</td>\n",
       "      <td>2.0</td>\n",
       "    </tr>\n",
       "    <tr>\n",
       "      <th>4</th>\n",
       "      <td>1.0</td>\n",
       "      <td>3.0</td>\n",
       "      <td>5.0</td>\n",
       "      <td>7.0</td>\n",
       "      <td>2.0</td>\n",
       "      <td>6.0</td>\n",
       "      <td>6.0</td>\n",
       "      <td>1.0</td>\n",
       "      <td>35.0</td>\n",
       "      <td>13.0</td>\n",
       "      <td>...</td>\n",
       "      <td>46.0</td>\n",
       "      <td>7.0</td>\n",
       "      <td>8.0</td>\n",
       "      <td>11.0</td>\n",
       "      <td>109.0</td>\n",
       "      <td>96.0</td>\n",
       "      <td>4.0</td>\n",
       "      <td>27.0</td>\n",
       "      <td>24.0</td>\n",
       "      <td>4.0</td>\n",
       "    </tr>\n",
       "    <tr>\n",
       "      <th>...</th>\n",
       "      <td>...</td>\n",
       "      <td>...</td>\n",
       "      <td>...</td>\n",
       "      <td>...</td>\n",
       "      <td>...</td>\n",
       "      <td>...</td>\n",
       "      <td>...</td>\n",
       "      <td>...</td>\n",
       "      <td>...</td>\n",
       "      <td>...</td>\n",
       "      <td>...</td>\n",
       "      <td>...</td>\n",
       "      <td>...</td>\n",
       "      <td>...</td>\n",
       "      <td>...</td>\n",
       "      <td>...</td>\n",
       "      <td>...</td>\n",
       "      <td>...</td>\n",
       "      <td>...</td>\n",
       "      <td>...</td>\n",
       "      <td>...</td>\n",
       "    </tr>\n",
       "    <tr>\n",
       "      <th>745834</th>\n",
       "      <td>2.0</td>\n",
       "      <td>0.0</td>\n",
       "      <td>0.0</td>\n",
       "      <td>0.0</td>\n",
       "      <td>0.0</td>\n",
       "      <td>0.0</td>\n",
       "      <td>0.0</td>\n",
       "      <td>0.0</td>\n",
       "      <td>11.0</td>\n",
       "      <td>1.0</td>\n",
       "      <td>...</td>\n",
       "      <td>40.0</td>\n",
       "      <td>23.0</td>\n",
       "      <td>41.0</td>\n",
       "      <td>15.0</td>\n",
       "      <td>2.0</td>\n",
       "      <td>1.0</td>\n",
       "      <td>4.0</td>\n",
       "      <td>18.0</td>\n",
       "      <td>31.0</td>\n",
       "      <td>21.0</td>\n",
       "    </tr>\n",
       "    <tr>\n",
       "      <th>745835</th>\n",
       "      <td>0.0</td>\n",
       "      <td>1.0</td>\n",
       "      <td>0.0</td>\n",
       "      <td>0.0</td>\n",
       "      <td>0.0</td>\n",
       "      <td>0.0</td>\n",
       "      <td>0.0</td>\n",
       "      <td>0.0</td>\n",
       "      <td>12.0</td>\n",
       "      <td>48.0</td>\n",
       "      <td>...</td>\n",
       "      <td>4.0</td>\n",
       "      <td>39.0</td>\n",
       "      <td>6.0</td>\n",
       "      <td>3.0</td>\n",
       "      <td>4.0</td>\n",
       "      <td>15.0</td>\n",
       "      <td>55.0</td>\n",
       "      <td>57.0</td>\n",
       "      <td>26.0</td>\n",
       "      <td>9.0</td>\n",
       "    </tr>\n",
       "    <tr>\n",
       "      <th>745836</th>\n",
       "      <td>1.0</td>\n",
       "      <td>0.0</td>\n",
       "      <td>0.0</td>\n",
       "      <td>0.0</td>\n",
       "      <td>1.0</td>\n",
       "      <td>1.0</td>\n",
       "      <td>1.0</td>\n",
       "      <td>2.0</td>\n",
       "      <td>2.0</td>\n",
       "      <td>2.0</td>\n",
       "      <td>...</td>\n",
       "      <td>33.0</td>\n",
       "      <td>27.0</td>\n",
       "      <td>54.0</td>\n",
       "      <td>98.0</td>\n",
       "      <td>67.0</td>\n",
       "      <td>19.0</td>\n",
       "      <td>2.0</td>\n",
       "      <td>1.0</td>\n",
       "      <td>22.0</td>\n",
       "      <td>32.0</td>\n",
       "    </tr>\n",
       "    <tr>\n",
       "      <th>745837</th>\n",
       "      <td>2.0</td>\n",
       "      <td>1.0</td>\n",
       "      <td>23.0</td>\n",
       "      <td>32.0</td>\n",
       "      <td>54.0</td>\n",
       "      <td>95.0</td>\n",
       "      <td>66.0</td>\n",
       "      <td>20.0</td>\n",
       "      <td>12.0</td>\n",
       "      <td>34.0</td>\n",
       "      <td>...</td>\n",
       "      <td>5.0</td>\n",
       "      <td>0.0</td>\n",
       "      <td>1.0</td>\n",
       "      <td>2.0</td>\n",
       "      <td>1.0</td>\n",
       "      <td>2.0</td>\n",
       "      <td>1.0</td>\n",
       "      <td>0.0</td>\n",
       "      <td>0.0</td>\n",
       "      <td>0.0</td>\n",
       "    </tr>\n",
       "    <tr>\n",
       "      <th>745838</th>\n",
       "      <td>54.0</td>\n",
       "      <td>36.0</td>\n",
       "      <td>12.0</td>\n",
       "      <td>33.0</td>\n",
       "      <td>88.0</td>\n",
       "      <td>55.0</td>\n",
       "      <td>2.0</td>\n",
       "      <td>1.0</td>\n",
       "      <td>107.0</td>\n",
       "      <td>75.0</td>\n",
       "      <td>...</td>\n",
       "      <td>16.0</td>\n",
       "      <td>27.0</td>\n",
       "      <td>1.0</td>\n",
       "      <td>1.0</td>\n",
       "      <td>0.0</td>\n",
       "      <td>0.0</td>\n",
       "      <td>0.0</td>\n",
       "      <td>0.0</td>\n",
       "      <td>1.0</td>\n",
       "      <td>1.0</td>\n",
       "    </tr>\n",
       "  </tbody>\n",
       "</table>\n",
       "<p>745839 rows × 128 columns</p>\n",
       "</div>"
      ],
      "text/plain": [
       "         0     1     2     3     4     5     6     7      8     9    ...  \\\n",
       "0        3.0   7.0  10.0  41.0  61.0  22.0   5.0   1.0   11.0  12.0  ...   \n",
       "1        1.0   6.0  93.0  45.0  18.0  63.0  26.0  19.0   33.0  32.0  ...   \n",
       "2        0.0   0.0   0.0   0.0   0.0   0.0   0.0   0.0   79.0  31.0  ...   \n",
       "3        1.0   6.0   5.0   0.0   0.0   1.0   1.0   0.0   29.0  71.0  ...   \n",
       "4        1.0   3.0   5.0   7.0   2.0   6.0   6.0   1.0   35.0  13.0  ...   \n",
       "...      ...   ...   ...   ...   ...   ...   ...   ...    ...   ...  ...   \n",
       "745834   2.0   0.0   0.0   0.0   0.0   0.0   0.0   0.0   11.0   1.0  ...   \n",
       "745835   0.0   1.0   0.0   0.0   0.0   0.0   0.0   0.0   12.0  48.0  ...   \n",
       "745836   1.0   0.0   0.0   0.0   1.0   1.0   1.0   2.0    2.0   2.0  ...   \n",
       "745837   2.0   1.0  23.0  32.0  54.0  95.0  66.0  20.0   12.0  34.0  ...   \n",
       "745838  54.0  36.0  12.0  33.0  88.0  55.0   2.0   1.0  107.0  75.0  ...   \n",
       "\n",
       "         118   119   120   121    122   123   124   125   126    127  \n",
       "0        0.0   4.0   1.0   4.0    5.0  16.0   7.0   0.0   0.0    0.0  \n",
       "1       19.0   1.0   0.0   1.0    0.0   0.0   0.0   0.0   0.0    0.0  \n",
       "2        9.0  31.0  27.0   9.0    5.0  42.0  33.0   4.0  40.0  116.0  \n",
       "3        1.0   3.0   3.0  40.0   84.0  56.0  13.0   3.0   2.0    2.0  \n",
       "4       46.0   7.0   8.0  11.0  109.0  96.0   4.0  27.0  24.0    4.0  \n",
       "...      ...   ...   ...   ...    ...   ...   ...   ...   ...    ...  \n",
       "745834  40.0  23.0  41.0  15.0    2.0   1.0   4.0  18.0  31.0   21.0  \n",
       "745835   4.0  39.0   6.0   3.0    4.0  15.0  55.0  57.0  26.0    9.0  \n",
       "745836  33.0  27.0  54.0  98.0   67.0  19.0   2.0   1.0  22.0   32.0  \n",
       "745837   5.0   0.0   1.0   2.0    1.0   2.0   1.0   0.0   0.0    0.0  \n",
       "745838  16.0  27.0   1.0   1.0    0.0   0.0   0.0   0.0   1.0    1.0  \n",
       "\n",
       "[745839 rows x 128 columns]"
      ]
     },
     "execution_count": 6,
     "metadata": {},
     "output_type": "execute_result"
    }
   ],
   "source": [
    "data2= pd.read_csv(r'D:\\CV_datasets\\370x370\\Non-crowded.csv',header=None,dtype='float64')\n",
    "data2=data2.astype(np.float64)\n",
    "data2"
   ]
  },
  {
   "cell_type": "code",
   "execution_count": 7,
   "metadata": {
    "id": "1RB97KjceVM7"
   },
   "outputs": [],
   "source": [
    "data=data1.append(data2)"
   ]
  },
  {
   "cell_type": "code",
   "execution_count": 8,
   "metadata": {
    "id": "2SOlwHvZeVM8"
   },
   "outputs": [],
   "source": [
    "csv_data=data.to_csv(r'D:\\CV_datasets\\370x370\\Sift-final.csv', mode='a', header=False,index=False)"
   ]
  },
  {
   "cell_type": "code",
   "execution_count": 9,
   "metadata": {
    "id": "ZnzW4QnmeVM9",
    "outputId": "0d0b900b-a6fd-4732-8dfd-0dabaa4f1b24"
   },
   "outputs": [
    {
     "data": {
      "text/html": [
       "<div>\n",
       "<style scoped>\n",
       "    .dataframe tbody tr th:only-of-type {\n",
       "        vertical-align: middle;\n",
       "    }\n",
       "\n",
       "    .dataframe tbody tr th {\n",
       "        vertical-align: top;\n",
       "    }\n",
       "\n",
       "    .dataframe thead th {\n",
       "        text-align: right;\n",
       "    }\n",
       "</style>\n",
       "<table border=\"1\" class=\"dataframe\">\n",
       "  <thead>\n",
       "    <tr style=\"text-align: right;\">\n",
       "      <th></th>\n",
       "      <th>0</th>\n",
       "      <th>1</th>\n",
       "      <th>2</th>\n",
       "      <th>3</th>\n",
       "      <th>4</th>\n",
       "      <th>5</th>\n",
       "      <th>6</th>\n",
       "      <th>7</th>\n",
       "      <th>8</th>\n",
       "      <th>9</th>\n",
       "      <th>...</th>\n",
       "      <th>118</th>\n",
       "      <th>119</th>\n",
       "      <th>120</th>\n",
       "      <th>121</th>\n",
       "      <th>122</th>\n",
       "      <th>123</th>\n",
       "      <th>124</th>\n",
       "      <th>125</th>\n",
       "      <th>126</th>\n",
       "      <th>127</th>\n",
       "    </tr>\n",
       "  </thead>\n",
       "  <tbody>\n",
       "    <tr>\n",
       "      <th>0</th>\n",
       "      <td>96.0</td>\n",
       "      <td>8.0</td>\n",
       "      <td>3.0</td>\n",
       "      <td>41.0</td>\n",
       "      <td>10.0</td>\n",
       "      <td>0.0</td>\n",
       "      <td>0.0</td>\n",
       "      <td>15.0</td>\n",
       "      <td>156.0</td>\n",
       "      <td>26.0</td>\n",
       "      <td>...</td>\n",
       "      <td>9.0</td>\n",
       "      <td>11.0</td>\n",
       "      <td>0.0</td>\n",
       "      <td>0.0</td>\n",
       "      <td>0.0</td>\n",
       "      <td>0.0</td>\n",
       "      <td>0.0</td>\n",
       "      <td>0.0</td>\n",
       "      <td>0.0</td>\n",
       "      <td>0.0</td>\n",
       "    </tr>\n",
       "    <tr>\n",
       "      <th>1</th>\n",
       "      <td>0.0</td>\n",
       "      <td>0.0</td>\n",
       "      <td>0.0</td>\n",
       "      <td>5.0</td>\n",
       "      <td>48.0</td>\n",
       "      <td>7.0</td>\n",
       "      <td>0.0</td>\n",
       "      <td>0.0</td>\n",
       "      <td>68.0</td>\n",
       "      <td>16.0</td>\n",
       "      <td>...</td>\n",
       "      <td>1.0</td>\n",
       "      <td>2.0</td>\n",
       "      <td>15.0</td>\n",
       "      <td>17.0</td>\n",
       "      <td>10.0</td>\n",
       "      <td>26.0</td>\n",
       "      <td>142.0</td>\n",
       "      <td>20.0</td>\n",
       "      <td>0.0</td>\n",
       "      <td>0.0</td>\n",
       "    </tr>\n",
       "    <tr>\n",
       "      <th>2</th>\n",
       "      <td>2.0</td>\n",
       "      <td>3.0</td>\n",
       "      <td>18.0</td>\n",
       "      <td>5.0</td>\n",
       "      <td>0.0</td>\n",
       "      <td>3.0</td>\n",
       "      <td>14.0</td>\n",
       "      <td>3.0</td>\n",
       "      <td>15.0</td>\n",
       "      <td>5.0</td>\n",
       "      <td>...</td>\n",
       "      <td>0.0</td>\n",
       "      <td>0.0</td>\n",
       "      <td>0.0</td>\n",
       "      <td>0.0</td>\n",
       "      <td>0.0</td>\n",
       "      <td>0.0</td>\n",
       "      <td>0.0</td>\n",
       "      <td>0.0</td>\n",
       "      <td>0.0</td>\n",
       "      <td>0.0</td>\n",
       "    </tr>\n",
       "    <tr>\n",
       "      <th>3</th>\n",
       "      <td>73.0</td>\n",
       "      <td>94.0</td>\n",
       "      <td>12.0</td>\n",
       "      <td>0.0</td>\n",
       "      <td>2.0</td>\n",
       "      <td>4.0</td>\n",
       "      <td>0.0</td>\n",
       "      <td>0.0</td>\n",
       "      <td>34.0</td>\n",
       "      <td>132.0</td>\n",
       "      <td>...</td>\n",
       "      <td>7.0</td>\n",
       "      <td>68.0</td>\n",
       "      <td>69.0</td>\n",
       "      <td>11.0</td>\n",
       "      <td>0.0</td>\n",
       "      <td>0.0</td>\n",
       "      <td>0.0</td>\n",
       "      <td>0.0</td>\n",
       "      <td>0.0</td>\n",
       "      <td>4.0</td>\n",
       "    </tr>\n",
       "    <tr>\n",
       "      <th>4</th>\n",
       "      <td>42.0</td>\n",
       "      <td>12.0</td>\n",
       "      <td>1.0</td>\n",
       "      <td>4.0</td>\n",
       "      <td>169.0</td>\n",
       "      <td>11.0</td>\n",
       "      <td>1.0</td>\n",
       "      <td>2.0</td>\n",
       "      <td>169.0</td>\n",
       "      <td>37.0</td>\n",
       "      <td>...</td>\n",
       "      <td>20.0</td>\n",
       "      <td>12.0</td>\n",
       "      <td>0.0</td>\n",
       "      <td>0.0</td>\n",
       "      <td>0.0</td>\n",
       "      <td>0.0</td>\n",
       "      <td>0.0</td>\n",
       "      <td>0.0</td>\n",
       "      <td>0.0</td>\n",
       "      <td>0.0</td>\n",
       "    </tr>\n",
       "    <tr>\n",
       "      <th>...</th>\n",
       "      <td>...</td>\n",
       "      <td>...</td>\n",
       "      <td>...</td>\n",
       "      <td>...</td>\n",
       "      <td>...</td>\n",
       "      <td>...</td>\n",
       "      <td>...</td>\n",
       "      <td>...</td>\n",
       "      <td>...</td>\n",
       "      <td>...</td>\n",
       "      <td>...</td>\n",
       "      <td>...</td>\n",
       "      <td>...</td>\n",
       "      <td>...</td>\n",
       "      <td>...</td>\n",
       "      <td>...</td>\n",
       "      <td>...</td>\n",
       "      <td>...</td>\n",
       "      <td>...</td>\n",
       "      <td>...</td>\n",
       "      <td>...</td>\n",
       "    </tr>\n",
       "    <tr>\n",
       "      <th>1630079</th>\n",
       "      <td>2.0</td>\n",
       "      <td>0.0</td>\n",
       "      <td>0.0</td>\n",
       "      <td>0.0</td>\n",
       "      <td>0.0</td>\n",
       "      <td>0.0</td>\n",
       "      <td>0.0</td>\n",
       "      <td>0.0</td>\n",
       "      <td>11.0</td>\n",
       "      <td>1.0</td>\n",
       "      <td>...</td>\n",
       "      <td>40.0</td>\n",
       "      <td>23.0</td>\n",
       "      <td>41.0</td>\n",
       "      <td>15.0</td>\n",
       "      <td>2.0</td>\n",
       "      <td>1.0</td>\n",
       "      <td>4.0</td>\n",
       "      <td>18.0</td>\n",
       "      <td>31.0</td>\n",
       "      <td>21.0</td>\n",
       "    </tr>\n",
       "    <tr>\n",
       "      <th>1630080</th>\n",
       "      <td>0.0</td>\n",
       "      <td>1.0</td>\n",
       "      <td>0.0</td>\n",
       "      <td>0.0</td>\n",
       "      <td>0.0</td>\n",
       "      <td>0.0</td>\n",
       "      <td>0.0</td>\n",
       "      <td>0.0</td>\n",
       "      <td>12.0</td>\n",
       "      <td>48.0</td>\n",
       "      <td>...</td>\n",
       "      <td>4.0</td>\n",
       "      <td>39.0</td>\n",
       "      <td>6.0</td>\n",
       "      <td>3.0</td>\n",
       "      <td>4.0</td>\n",
       "      <td>15.0</td>\n",
       "      <td>55.0</td>\n",
       "      <td>57.0</td>\n",
       "      <td>26.0</td>\n",
       "      <td>9.0</td>\n",
       "    </tr>\n",
       "    <tr>\n",
       "      <th>1630081</th>\n",
       "      <td>1.0</td>\n",
       "      <td>0.0</td>\n",
       "      <td>0.0</td>\n",
       "      <td>0.0</td>\n",
       "      <td>1.0</td>\n",
       "      <td>1.0</td>\n",
       "      <td>1.0</td>\n",
       "      <td>2.0</td>\n",
       "      <td>2.0</td>\n",
       "      <td>2.0</td>\n",
       "      <td>...</td>\n",
       "      <td>33.0</td>\n",
       "      <td>27.0</td>\n",
       "      <td>54.0</td>\n",
       "      <td>98.0</td>\n",
       "      <td>67.0</td>\n",
       "      <td>19.0</td>\n",
       "      <td>2.0</td>\n",
       "      <td>1.0</td>\n",
       "      <td>22.0</td>\n",
       "      <td>32.0</td>\n",
       "    </tr>\n",
       "    <tr>\n",
       "      <th>1630082</th>\n",
       "      <td>2.0</td>\n",
       "      <td>1.0</td>\n",
       "      <td>23.0</td>\n",
       "      <td>32.0</td>\n",
       "      <td>54.0</td>\n",
       "      <td>95.0</td>\n",
       "      <td>66.0</td>\n",
       "      <td>20.0</td>\n",
       "      <td>12.0</td>\n",
       "      <td>34.0</td>\n",
       "      <td>...</td>\n",
       "      <td>5.0</td>\n",
       "      <td>0.0</td>\n",
       "      <td>1.0</td>\n",
       "      <td>2.0</td>\n",
       "      <td>1.0</td>\n",
       "      <td>2.0</td>\n",
       "      <td>1.0</td>\n",
       "      <td>0.0</td>\n",
       "      <td>0.0</td>\n",
       "      <td>0.0</td>\n",
       "    </tr>\n",
       "    <tr>\n",
       "      <th>1630083</th>\n",
       "      <td>54.0</td>\n",
       "      <td>36.0</td>\n",
       "      <td>12.0</td>\n",
       "      <td>33.0</td>\n",
       "      <td>88.0</td>\n",
       "      <td>55.0</td>\n",
       "      <td>2.0</td>\n",
       "      <td>1.0</td>\n",
       "      <td>107.0</td>\n",
       "      <td>75.0</td>\n",
       "      <td>...</td>\n",
       "      <td>16.0</td>\n",
       "      <td>27.0</td>\n",
       "      <td>1.0</td>\n",
       "      <td>1.0</td>\n",
       "      <td>0.0</td>\n",
       "      <td>0.0</td>\n",
       "      <td>0.0</td>\n",
       "      <td>0.0</td>\n",
       "      <td>1.0</td>\n",
       "      <td>1.0</td>\n",
       "    </tr>\n",
       "  </tbody>\n",
       "</table>\n",
       "<p>1630084 rows × 128 columns</p>\n",
       "</div>"
      ],
      "text/plain": [
       "          0     1     2     3      4     5     6     7      8      9    ...  \\\n",
       "0        96.0   8.0   3.0  41.0   10.0   0.0   0.0  15.0  156.0   26.0  ...   \n",
       "1         0.0   0.0   0.0   5.0   48.0   7.0   0.0   0.0   68.0   16.0  ...   \n",
       "2         2.0   3.0  18.0   5.0    0.0   3.0  14.0   3.0   15.0    5.0  ...   \n",
       "3        73.0  94.0  12.0   0.0    2.0   4.0   0.0   0.0   34.0  132.0  ...   \n",
       "4        42.0  12.0   1.0   4.0  169.0  11.0   1.0   2.0  169.0   37.0  ...   \n",
       "...       ...   ...   ...   ...    ...   ...   ...   ...    ...    ...  ...   \n",
       "1630079   2.0   0.0   0.0   0.0    0.0   0.0   0.0   0.0   11.0    1.0  ...   \n",
       "1630080   0.0   1.0   0.0   0.0    0.0   0.0   0.0   0.0   12.0   48.0  ...   \n",
       "1630081   1.0   0.0   0.0   0.0    1.0   1.0   1.0   2.0    2.0    2.0  ...   \n",
       "1630082   2.0   1.0  23.0  32.0   54.0  95.0  66.0  20.0   12.0   34.0  ...   \n",
       "1630083  54.0  36.0  12.0  33.0   88.0  55.0   2.0   1.0  107.0   75.0  ...   \n",
       "\n",
       "          118   119   120   121   122   123    124   125   126   127  \n",
       "0         9.0  11.0   0.0   0.0   0.0   0.0    0.0   0.0   0.0   0.0  \n",
       "1         1.0   2.0  15.0  17.0  10.0  26.0  142.0  20.0   0.0   0.0  \n",
       "2         0.0   0.0   0.0   0.0   0.0   0.0    0.0   0.0   0.0   0.0  \n",
       "3         7.0  68.0  69.0  11.0   0.0   0.0    0.0   0.0   0.0   4.0  \n",
       "4        20.0  12.0   0.0   0.0   0.0   0.0    0.0   0.0   0.0   0.0  \n",
       "...       ...   ...   ...   ...   ...   ...    ...   ...   ...   ...  \n",
       "1630079  40.0  23.0  41.0  15.0   2.0   1.0    4.0  18.0  31.0  21.0  \n",
       "1630080   4.0  39.0   6.0   3.0   4.0  15.0   55.0  57.0  26.0   9.0  \n",
       "1630081  33.0  27.0  54.0  98.0  67.0  19.0    2.0   1.0  22.0  32.0  \n",
       "1630082   5.0   0.0   1.0   2.0   1.0   2.0    1.0   0.0   0.0   0.0  \n",
       "1630083  16.0  27.0   1.0   1.0   0.0   0.0    0.0   0.0   1.0   1.0  \n",
       "\n",
       "[1630084 rows x 128 columns]"
      ]
     },
     "execution_count": 9,
     "metadata": {},
     "output_type": "execute_result"
    }
   ],
   "source": [
    "data= pd.read_csv(r'D:\\CV_datasets\\370x370\\Sift-final.csv',header=None,dtype='float64')\n",
    "data=data.astype(np.float64)\n",
    "data"
   ]
  },
  {
   "cell_type": "markdown",
   "metadata": {
    "id": "RzID9o6aeVM-"
   },
   "source": [
    "# Kmeans"
   ]
  },
  {
   "cell_type": "code",
   "execution_count": 10,
   "metadata": {},
   "outputs": [],
   "source": [
    "# # Find K value in Kmeans :- we will used elbow method\n",
    "\n",
    "# SSE = []\n",
    "\n",
    "# for k in range(1,16):\n",
    "#     KM_Model = KMeans(n_clusters = k )\n",
    "#     KM_Model.fit(data)\n",
    "#     SSE.append(KM_Model.inertia_)\n",
    "#     print(k)\n",
    "    \n",
    "# SSE"
   ]
  },
  {
   "cell_type": "code",
   "execution_count": 11,
   "metadata": {},
   "outputs": [],
   "source": [
    "# # Plot between Acc and K value.\n",
    "# # X_Axis = K value\n",
    "# # Y_Axis = SSE\n",
    "# import matplotlib.pyplot as plt\n",
    "# plt.plot(range(1,16),SSE,'*-')\n",
    "# plt.xlabel(\"K_Value\")\n",
    "# plt.ylabel(\"Acc\")"
   ]
  },
  {
   "cell_type": "code",
   "execution_count": 12,
   "metadata": {
    "id": "57XVV2yreVNA",
    "outputId": "8819fd49-9aa6-4bf9-ecea-0c40f58a7171"
   },
   "outputs": [
    {
     "data": {
      "text/plain": [
       "KMeans(n_clusters=5)"
      ]
     },
     "execution_count": 12,
     "metadata": {},
     "output_type": "execute_result"
    }
   ],
   "source": [
    "kmeans = KMeans(n_clusters=5)\n",
    "kmeans.fit(data)"
   ]
  },
  {
   "cell_type": "code",
   "execution_count": 13,
   "metadata": {
    "id": "Z4b0jqgxeVNB"
   },
   "outputs": [],
   "source": [
    "import pickle"
   ]
  },
  {
   "cell_type": "code",
   "execution_count": 14,
   "metadata": {
    "id": "e6V69MiaeVNB"
   },
   "outputs": [],
   "source": [
    "# save the model to disk\n",
    "filename = r'D:\\CV_datasets\\370x370\\Kmeans_CL_5_Model.sav'\n",
    "pickle.dump(kmeans, open(filename, 'wb'))"
   ]
  },
  {
   "cell_type": "code",
   "execution_count": 15,
   "metadata": {
    "id": "F39S98A3eVNC",
    "outputId": "5cd71afc-d09a-4172-bf46-e3e4a1014b43"
   },
   "outputs": [
    {
     "name": "stdout",
     "output_type": "stream",
     "text": [
      "histogram of trained kmeans\n",
      "(array([329605, 334375, 324177, 327842, 314085], dtype=int64), array([0, 1, 2, 3, 4, 5])) \n",
      "\n"
     ]
    }
   ],
   "source": [
    "hist=np.histogram(kmeans.labels_,bins=[0,1,2,3,4,5])\n",
    "\n",
    "\n",
    "print('histogram of trained kmeans')\n",
    "print(hist,\"\\n\")"
   ]
  },
  {
   "cell_type": "code",
   "execution_count": 16,
   "metadata": {
    "id": "LFPd0Um4eVNC"
   },
   "outputs": [],
   "source": [
    "#folder1=r\"D:/StrData/Str\"\n",
    "#folder2=r\"D:\\StrData\\Nstr\""
   ]
  },
  {
   "cell_type": "code",
   "execution_count": 17,
   "metadata": {
    "id": "-7A3Sh5OeVND"
   },
   "outputs": [],
   "source": [
    "#performing kmeans prediction of the entire Crowded dataset with the pretrained kmeans model\n",
    "\n",
    "#initialising i=0; as its the first class\n",
    "i=0\n",
    "data=[]\n",
    "#k=0\n",
    "\n",
    "for filename in os.listdir(folder1):\n",
    "    #path\n",
    "    path=os.path.join(folder1,filename)\n",
    "    a=cv2.imread(path)\n",
    "    if a is None:\n",
    "        continue\n",
    "\n",
    "    #resize image\n",
    "    resize=(100,300)\n",
    "    img=cv2.resize(a,resize)\n",
    "    \n",
    "    resultimage = np.zeros((100, 300))\n",
    "   \n",
    "    #normalizing the given image using normalize() function\n",
    "    nimg = cv2.normalize(img,resultimage, 0, 255, cv2.NORM_MINMAX)\n",
    "    \n",
    "    \n",
    "    #gray image\n",
    "    gray = cv2.cvtColor(nimg, cv2.COLOR_BGR2GRAY)\n",
    "    hist_image=cv2.equalizeHist(gray)\n",
    " \n",
    "    \n",
    "    sift = cv2.xfeatures2d.SIFT_create()\n",
    "    keypoints, descriptors = sift.detectAndCompute(hist_image, None)\n",
    "    \n",
    "    out=pd.DataFrame(descriptors)\n",
    "    \n",
    "    \n",
    "    #predict values of feature vector with pretrained kmeans\n",
    "    #ValueError: Buffer dtype mismatch, expected 'float', in order to avoid this dtype=np.double\n",
    "    \n",
    "    array_double = np.array(out, dtype=np.double)\n",
    "    if (array_double.any() == 0):\n",
    "        continue\n",
    "    a=kmeans.predict(array_double)\n",
    "    \n",
    "    hist=np.histogram(a,bins=[0,1,2,3,4,5])\n",
    "    \n",
    "    #append the dataframe into the array in append mode, the array will only have 5 values which will store the values in a row\n",
    "    data.append(hist[0])\n",
    "    #k=k+1\n",
    "    \n",
    "#convert Array to Dataframe and append to the list\n",
    "Output = pd.DataFrame(data)\n",
    "#add row class \n",
    "Output[\"Class\"] = i \n",
    "csv_data=Output.to_csv(r'D:\\CV_datasets\\370x370\\final-crowded.csv', mode='a',header=False,index=False)  #D:\\StrData\\FinalStr.csv"
   ]
  },
  {
   "cell_type": "code",
   "execution_count": 18,
   "metadata": {
    "id": "xic8qtngeVNE"
   },
   "outputs": [],
   "source": [
    "#performing kmeans prediction of the entire Non_Crowded dataset with the pretrained kmeans model\n",
    "\n",
    "#initialising i=1; as its the 2nd class\n",
    "i=1\n",
    "data=[]\n",
    "k=0\n",
    "for filename in os.listdir(folder2):\n",
    "    path=os.path.join(folder2,filename)\n",
    "    a=cv2.imread(path)\n",
    "    if a is None:\n",
    "        continue\n",
    "    resize=(100,300)\n",
    "    img=cv2.resize(a,resize)\n",
    "    \n",
    "    resultimage = np.zeros((100, 300))\n",
    "   \n",
    "    #normalizing the given image using normalize() function\n",
    "    nimg = cv2.normalize(img,resultimage, 0, 255, cv2.NORM_MINMAX)\n",
    "    \n",
    "    \n",
    "    gray = cv2.cvtColor(nimg, cv2.COLOR_BGR2GRAY)\n",
    "    hist_image=cv2.equalizeHist(gray)\n",
    "    \n",
    "    sift = cv2.xfeatures2d.SIFT_create()\n",
    "    keypoints, descriptors = sift.detectAndCompute(hist_image, None)\n",
    "     \n",
    "    out=pd.DataFrame(descriptors)\n",
    "    \n",
    "    #predict values of feature vector with pretrained kmeans\n",
    "    #ValueError: Buffer dtype mismatch, expected 'float' but got 'double', in order to avoid this dtype=np.double\n",
    "    \n",
    "    array_double = np.array(out, dtype=np.double)\n",
    "    if (array_double.any() == 0):\n",
    "        continue\n",
    "    a=kmeans.predict(array_double)\n",
    "    hist=np.histogram(a,bins=[0,1,2,3,4,5])\n",
    "    #append the dataframe into the array in append mode, the array will only have 5 values which will store the values in a row\n",
    "    data.append(hist[0])\n",
    "    k=k+1\n",
    "    \n",
    "#convert Array to Dataframe and append to the list\n",
    "Output = pd.DataFrame(data)\n",
    "#add row class \n",
    "Output[\"Class\"] = i \n",
    "csv_data=Output.to_csv(r'D:\\CV_datasets\\370x370\\final-Non-crowded.csv', mode='a',header=False,index=False)"
   ]
  },
  {
   "cell_type": "code",
   "execution_count": 19,
   "metadata": {
    "id": "FPbU5GVUeVNE",
    "outputId": "c99e3ab5-d60e-48fa-95ed-ba754c927930"
   },
   "outputs": [
    {
     "name": "stdout",
     "output_type": "stream",
     "text": [
      "Crowded\n",
      "       0    1    2   3   4  5\n",
      "0     31   94   30  81  43  0\n",
      "1     23   46   28  47  40  0\n",
      "2     25  107   24  90  51  0\n",
      "3     71   93   69  75  56  0\n",
      "4     82  103  100  90  60  0\n",
      "...   ..  ...  ...  ..  .. ..\n",
      "3103  29   36   45  49  33  0\n",
      "3104  45   50   43  61  50  0\n",
      "3105  20   51   20  54  57  0\n",
      "3106  91   56  100  51  39  0\n",
      "3107  28   71   20  70  34  0\n",
      "\n",
      "[3108 rows x 6 columns]\n"
     ]
    }
   ],
   "source": [
    "#Displaying the kmeans predicted data\n",
    "print(\"Crowded\")\n",
    "dat1= pd.read_csv(r'D:\\CV_datasets\\370x370\\final-crowded.csv',header=None)   ##D:\\StrData\\FinalStr.csv\n",
    "print(dat1)"
   ]
  },
  {
   "cell_type": "code",
   "execution_count": 20,
   "metadata": {
    "id": "yMib5ZXreVNF",
    "outputId": "d6e4fb24-00ed-400f-d7f0-416d85ac62bf"
   },
   "outputs": [
    {
     "name": "stdout",
     "output_type": "stream",
     "text": [
      "Non-Crowded\n",
      "        0   1    2   3   4  5\n",
      "0      62  21   78  15  42  1\n",
      "1      35  24   35  17  13  1\n",
      "2      23  27   23  29  51  1\n",
      "3      38  12   39   8  42  1\n",
      "4      76  45   91  34  38  1\n",
      "...   ...  ..  ...  ..  .. ..\n",
      "2996   13  18   12  19  37  1\n",
      "2997   23  48   27  57  61  1\n",
      "2998   78  34   76  35  98  1\n",
      "2999  116  21  179  17  17  1\n",
      "3000   81  64   86  41  59  1\n",
      "\n",
      "[3001 rows x 6 columns]\n"
     ]
    }
   ],
   "source": [
    "print(\"Non-Crowded\")\n",
    "dat2= pd.read_csv(r'D:\\CV_datasets\\370x370\\final-Non-crowded.csv',header=None)       #D:/StrData/FinalNstr.csv\n",
    "print(dat2)"
   ]
  },
  {
   "cell_type": "code",
   "execution_count": 21,
   "metadata": {
    "id": "o98wyhJEeVNG"
   },
   "outputs": [],
   "source": [
    "#appending All classes into 1 csv file\n",
    "\n",
    "A=dat1.append(dat2)\n",
    "\n",
    "csv_data=A.to_csv(r'D:\\CV_datasets\\370x370\\final-FV.csv', mode='a',header=False,index=False)"
   ]
  },
  {
   "cell_type": "code",
   "execution_count": 22,
   "metadata": {
    "id": "InNamrUTeVNH",
    "outputId": "f8097204-b51f-4515-e6c9-f37d39539e19"
   },
   "outputs": [
    {
     "data": {
      "text/html": [
       "<div>\n",
       "<style scoped>\n",
       "    .dataframe tbody tr th:only-of-type {\n",
       "        vertical-align: middle;\n",
       "    }\n",
       "\n",
       "    .dataframe tbody tr th {\n",
       "        vertical-align: top;\n",
       "    }\n",
       "\n",
       "    .dataframe thead th {\n",
       "        text-align: right;\n",
       "    }\n",
       "</style>\n",
       "<table border=\"1\" class=\"dataframe\">\n",
       "  <thead>\n",
       "    <tr style=\"text-align: right;\">\n",
       "      <th></th>\n",
       "      <th>0</th>\n",
       "      <th>1</th>\n",
       "      <th>2</th>\n",
       "      <th>3</th>\n",
       "      <th>4</th>\n",
       "      <th>5</th>\n",
       "    </tr>\n",
       "  </thead>\n",
       "  <tbody>\n",
       "    <tr>\n",
       "      <th>0</th>\n",
       "      <td>31</td>\n",
       "      <td>94</td>\n",
       "      <td>30</td>\n",
       "      <td>81</td>\n",
       "      <td>43</td>\n",
       "      <td>0</td>\n",
       "    </tr>\n",
       "    <tr>\n",
       "      <th>1</th>\n",
       "      <td>23</td>\n",
       "      <td>46</td>\n",
       "      <td>28</td>\n",
       "      <td>47</td>\n",
       "      <td>40</td>\n",
       "      <td>0</td>\n",
       "    </tr>\n",
       "    <tr>\n",
       "      <th>2</th>\n",
       "      <td>25</td>\n",
       "      <td>107</td>\n",
       "      <td>24</td>\n",
       "      <td>90</td>\n",
       "      <td>51</td>\n",
       "      <td>0</td>\n",
       "    </tr>\n",
       "    <tr>\n",
       "      <th>3</th>\n",
       "      <td>71</td>\n",
       "      <td>93</td>\n",
       "      <td>69</td>\n",
       "      <td>75</td>\n",
       "      <td>56</td>\n",
       "      <td>0</td>\n",
       "    </tr>\n",
       "    <tr>\n",
       "      <th>4</th>\n",
       "      <td>82</td>\n",
       "      <td>103</td>\n",
       "      <td>100</td>\n",
       "      <td>90</td>\n",
       "      <td>60</td>\n",
       "      <td>0</td>\n",
       "    </tr>\n",
       "    <tr>\n",
       "      <th>...</th>\n",
       "      <td>...</td>\n",
       "      <td>...</td>\n",
       "      <td>...</td>\n",
       "      <td>...</td>\n",
       "      <td>...</td>\n",
       "      <td>...</td>\n",
       "    </tr>\n",
       "    <tr>\n",
       "      <th>2996</th>\n",
       "      <td>13</td>\n",
       "      <td>18</td>\n",
       "      <td>12</td>\n",
       "      <td>19</td>\n",
       "      <td>37</td>\n",
       "      <td>1</td>\n",
       "    </tr>\n",
       "    <tr>\n",
       "      <th>2997</th>\n",
       "      <td>23</td>\n",
       "      <td>48</td>\n",
       "      <td>27</td>\n",
       "      <td>57</td>\n",
       "      <td>61</td>\n",
       "      <td>1</td>\n",
       "    </tr>\n",
       "    <tr>\n",
       "      <th>2998</th>\n",
       "      <td>78</td>\n",
       "      <td>34</td>\n",
       "      <td>76</td>\n",
       "      <td>35</td>\n",
       "      <td>98</td>\n",
       "      <td>1</td>\n",
       "    </tr>\n",
       "    <tr>\n",
       "      <th>2999</th>\n",
       "      <td>116</td>\n",
       "      <td>21</td>\n",
       "      <td>179</td>\n",
       "      <td>17</td>\n",
       "      <td>17</td>\n",
       "      <td>1</td>\n",
       "    </tr>\n",
       "    <tr>\n",
       "      <th>3000</th>\n",
       "      <td>81</td>\n",
       "      <td>64</td>\n",
       "      <td>86</td>\n",
       "      <td>41</td>\n",
       "      <td>59</td>\n",
       "      <td>1</td>\n",
       "    </tr>\n",
       "  </tbody>\n",
       "</table>\n",
       "<p>6109 rows × 6 columns</p>\n",
       "</div>"
      ],
      "text/plain": [
       "        0    1    2   3   4  5\n",
       "0      31   94   30  81  43  0\n",
       "1      23   46   28  47  40  0\n",
       "2      25  107   24  90  51  0\n",
       "3      71   93   69  75  56  0\n",
       "4      82  103  100  90  60  0\n",
       "...   ...  ...  ...  ..  .. ..\n",
       "2996   13   18   12  19  37  1\n",
       "2997   23   48   27  57  61  1\n",
       "2998   78   34   76  35  98  1\n",
       "2999  116   21  179  17  17  1\n",
       "3000   81   64   86  41  59  1\n",
       "\n",
       "[6109 rows x 6 columns]"
      ]
     },
     "execution_count": 22,
     "metadata": {},
     "output_type": "execute_result"
    }
   ],
   "source": [
    "A"
   ]
  },
  {
   "cell_type": "code",
   "execution_count": 23,
   "metadata": {
    "id": "ahd9oiKOeVNH"
   },
   "outputs": [],
   "source": [
    "x = A.iloc[:,0:5].values"
   ]
  },
  {
   "cell_type": "code",
   "execution_count": 24,
   "metadata": {
    "id": "lcEAdTApeVNI",
    "outputId": "eb89be60-3148-4228-ac2e-1739dd9a77ae"
   },
   "outputs": [
    {
     "data": {
      "text/plain": [
       "array([[ 31,  94,  30,  81,  43],\n",
       "       [ 23,  46,  28,  47,  40],\n",
       "       [ 25, 107,  24,  90,  51],\n",
       "       ...,\n",
       "       [ 78,  34,  76,  35,  98],\n",
       "       [116,  21, 179,  17,  17],\n",
       "       [ 81,  64,  86,  41,  59]], dtype=int64)"
      ]
     },
     "execution_count": 24,
     "metadata": {},
     "output_type": "execute_result"
    }
   ],
   "source": [
    "x"
   ]
  },
  {
   "cell_type": "code",
   "execution_count": 25,
   "metadata": {
    "id": "unN1htgfeVNJ"
   },
   "outputs": [],
   "source": [
    "y = A.iloc[:,5].values"
   ]
  },
  {
   "cell_type": "code",
   "execution_count": 26,
   "metadata": {
    "id": "Y18b7HmfeVNK",
    "outputId": "fc8e62b9-f319-47f7-d159-4d301fffc76a"
   },
   "outputs": [
    {
     "data": {
      "text/plain": [
       "array([0, 0, 0, ..., 1, 1, 1], dtype=int64)"
      ]
     },
     "execution_count": 26,
     "metadata": {},
     "output_type": "execute_result"
    }
   ],
   "source": [
    "y"
   ]
  },
  {
   "cell_type": "code",
   "execution_count": 27,
   "metadata": {},
   "outputs": [
    {
     "data": {
      "text/plain": [
       "array([[0.22426704, 0.68003553, 0.21703261, 0.58598806, 0.31108008],\n",
       "       [0.27034513, 0.54069026, 0.32911581, 0.55244439, 0.47016544],\n",
       "       [0.16360149, 0.7002144 , 0.15705743, 0.58896538, 0.33374705],\n",
       "       ...,\n",
       "       [0.5051216 , 0.22018121, 0.49216976, 0.22665713, 0.63463996],\n",
       "       [0.53784459, 0.09736842, 0.82994985, 0.07882205, 0.07882205],\n",
       "       [0.53161922, 0.42004482, 0.56443522, 0.26909121, 0.38722882]])"
      ]
     },
     "execution_count": 27,
     "metadata": {},
     "output_type": "execute_result"
    }
   ],
   "source": [
    "#Normalization\n",
    "from sklearn.preprocessing import Normalizer\n",
    "norm = Normalizer().fit(x)\n",
    "normalized = norm.fit_transform(x)\n",
    "normalized"
   ]
  },
  {
   "cell_type": "code",
   "execution_count": 28,
   "metadata": {
    "id": "TuQ4m9VZeVNK"
   },
   "outputs": [],
   "source": [
    "from sklearn.preprocessing import StandardScaler\n",
    "DhoniS = StandardScaler()\n",
    "Dhoni = DhoniS.fit_transform(normalized)"
   ]
  },
  {
   "cell_type": "code",
   "execution_count": 29,
   "metadata": {
    "id": "gGQkG6fueVNL",
    "outputId": "b52ee62d-e217-4ec4-99fc-e488929cffef"
   },
   "outputs": [
    {
     "data": {
      "text/plain": [
       "array([[-1.04372864,  1.54772496, -1.05568144,  1.01592183, -0.7775437 ],\n",
       "       [-0.76397404,  0.70931481, -0.38100278,  0.81812253,  0.14432783],\n",
       "       [-1.41204823,  1.66913682, -1.41669877,  1.0334784 , -0.64619263],\n",
       "       ...,\n",
       "       [ 0.6614278 , -1.21911831,  0.60049161, -1.10296997,  1.0974286 ],\n",
       "       [ 0.86009941, -1.95805613,  2.6337404 , -1.97471938, -2.12343792],\n",
       "       [ 0.82230321, -0.01658252,  1.0354896 , -0.85274595, -0.33627524]])"
      ]
     },
     "execution_count": 29,
     "metadata": {},
     "output_type": "execute_result"
    }
   ],
   "source": [
    "Dhoni"
   ]
  },
  {
   "cell_type": "code",
   "execution_count": 30,
   "metadata": {
    "id": "-a9J6yaDeVNL"
   },
   "outputs": [],
   "source": [
    "from sklearn.decomposition import PCA"
   ]
  },
  {
   "cell_type": "code",
   "execution_count": 31,
   "metadata": {
    "id": "NDu0tIk_eVNL",
    "outputId": "dd8340e4-0e46-44da-966c-9f6c4a955c41"
   },
   "outputs": [
    {
     "data": {
      "text/plain": [
       "PCA()"
      ]
     },
     "execution_count": 31,
     "metadata": {},
     "output_type": "execute_result"
    }
   ],
   "source": [
    "pca = PCA(n_components=None)\n",
    "pca.fit(Dhoni)"
   ]
  },
  {
   "cell_type": "code",
   "execution_count": 32,
   "metadata": {
    "id": "y4lO_xKBeVNL"
   },
   "outputs": [],
   "source": [
    "Bhumi = pca.transform(Dhoni)"
   ]
  },
  {
   "cell_type": "code",
   "execution_count": 33,
   "metadata": {
    "id": "ybHe9blneVNM",
    "outputId": "2e8cecb9-a759-4446-d08b-549bc88e5161"
   },
   "outputs": [
    {
     "data": {
      "text/plain": [
       "array([[-2.26579303, -0.92947541,  0.31757879,  0.18551179,  0.32084762],\n",
       "       [-1.33736717, -0.07302029,  0.11402097, -0.26160023, -0.2162951 ],\n",
       "       [-2.71352598, -0.68397399,  0.3734981 ,  0.22181652,  0.50282087],\n",
       "       ...,\n",
       "       [ 1.69995343,  1.32201387, -0.11728996,  0.03477179, -0.22954366],\n",
       "       [ 3.85533437, -1.32711497,  0.7203519 , -1.07392484,  1.27349514],\n",
       "       [ 1.39552621, -0.45944818,  0.57060244,  0.23426702, -0.22338029]])"
      ]
     },
     "execution_count": 33,
     "metadata": {},
     "output_type": "execute_result"
    }
   ],
   "source": [
    "Bhumi"
   ]
  },
  {
   "cell_type": "code",
   "execution_count": 34,
   "metadata": {
    "id": "me-oFxA-eVNM"
   },
   "outputs": [],
   "source": [
    "Bhumi = pd.DataFrame(Bhumi)"
   ]
  },
  {
   "cell_type": "code",
   "execution_count": 35,
   "metadata": {
    "id": "i3LezlLyeVNM",
    "outputId": "2a0cbfbe-4bf2-4082-fbaa-c9503bcac91b"
   },
   "outputs": [
    {
     "data": {
      "text/html": [
       "<div>\n",
       "<style scoped>\n",
       "    .dataframe tbody tr th:only-of-type {\n",
       "        vertical-align: middle;\n",
       "    }\n",
       "\n",
       "    .dataframe tbody tr th {\n",
       "        vertical-align: top;\n",
       "    }\n",
       "\n",
       "    .dataframe thead th {\n",
       "        text-align: right;\n",
       "    }\n",
       "</style>\n",
       "<table border=\"1\" class=\"dataframe\">\n",
       "  <thead>\n",
       "    <tr style=\"text-align: right;\">\n",
       "      <th></th>\n",
       "      <th>0</th>\n",
       "      <th>1</th>\n",
       "      <th>2</th>\n",
       "      <th>3</th>\n",
       "      <th>4</th>\n",
       "    </tr>\n",
       "  </thead>\n",
       "  <tbody>\n",
       "    <tr>\n",
       "      <th>0</th>\n",
       "      <td>-2.265793</td>\n",
       "      <td>-0.929475</td>\n",
       "      <td>0.317579</td>\n",
       "      <td>0.185512</td>\n",
       "      <td>0.320848</td>\n",
       "    </tr>\n",
       "    <tr>\n",
       "      <th>1</th>\n",
       "      <td>-1.337367</td>\n",
       "      <td>-0.073020</td>\n",
       "      <td>0.114021</td>\n",
       "      <td>-0.261600</td>\n",
       "      <td>-0.216295</td>\n",
       "    </tr>\n",
       "    <tr>\n",
       "      <th>2</th>\n",
       "      <td>-2.713526</td>\n",
       "      <td>-0.683974</td>\n",
       "      <td>0.373498</td>\n",
       "      <td>0.221817</td>\n",
       "      <td>0.502821</td>\n",
       "    </tr>\n",
       "    <tr>\n",
       "      <th>3</th>\n",
       "      <td>-0.304338</td>\n",
       "      <td>-0.941356</td>\n",
       "      <td>0.346414</td>\n",
       "      <td>0.269992</td>\n",
       "      <td>-0.221948</td>\n",
       "    </tr>\n",
       "    <tr>\n",
       "      <th>4</th>\n",
       "      <td>0.056356</td>\n",
       "      <td>-1.127336</td>\n",
       "      <td>0.460335</td>\n",
       "      <td>-0.197707</td>\n",
       "      <td>-0.205432</td>\n",
       "    </tr>\n",
       "    <tr>\n",
       "      <th>...</th>\n",
       "      <td>...</td>\n",
       "      <td>...</td>\n",
       "      <td>...</td>\n",
       "      <td>...</td>\n",
       "      <td>...</td>\n",
       "    </tr>\n",
       "    <tr>\n",
       "      <th>6104</th>\n",
       "      <td>-0.750104</td>\n",
       "      <td>2.055288</td>\n",
       "      <td>-0.167903</td>\n",
       "      <td>0.032005</td>\n",
       "      <td>-0.154234</td>\n",
       "    </tr>\n",
       "    <tr>\n",
       "      <th>6105</th>\n",
       "      <td>-1.527581</td>\n",
       "      <td>0.818567</td>\n",
       "      <td>-0.209241</td>\n",
       "      <td>-0.367537</td>\n",
       "      <td>-0.181754</td>\n",
       "    </tr>\n",
       "    <tr>\n",
       "      <th>6106</th>\n",
       "      <td>1.699953</td>\n",
       "      <td>1.322014</td>\n",
       "      <td>-0.117290</td>\n",
       "      <td>0.034772</td>\n",
       "      <td>-0.229544</td>\n",
       "    </tr>\n",
       "    <tr>\n",
       "      <th>6107</th>\n",
       "      <td>3.855334</td>\n",
       "      <td>-1.327115</td>\n",
       "      <td>0.720352</td>\n",
       "      <td>-1.073925</td>\n",
       "      <td>1.273495</td>\n",
       "    </tr>\n",
       "    <tr>\n",
       "      <th>6108</th>\n",
       "      <td>1.395526</td>\n",
       "      <td>-0.459448</td>\n",
       "      <td>0.570602</td>\n",
       "      <td>0.234267</td>\n",
       "      <td>-0.223380</td>\n",
       "    </tr>\n",
       "  </tbody>\n",
       "</table>\n",
       "<p>6109 rows × 5 columns</p>\n",
       "</div>"
      ],
      "text/plain": [
       "             0         1         2         3         4\n",
       "0    -2.265793 -0.929475  0.317579  0.185512  0.320848\n",
       "1    -1.337367 -0.073020  0.114021 -0.261600 -0.216295\n",
       "2    -2.713526 -0.683974  0.373498  0.221817  0.502821\n",
       "3    -0.304338 -0.941356  0.346414  0.269992 -0.221948\n",
       "4     0.056356 -1.127336  0.460335 -0.197707 -0.205432\n",
       "...        ...       ...       ...       ...       ...\n",
       "6104 -0.750104  2.055288 -0.167903  0.032005 -0.154234\n",
       "6105 -1.527581  0.818567 -0.209241 -0.367537 -0.181754\n",
       "6106  1.699953  1.322014 -0.117290  0.034772 -0.229544\n",
       "6107  3.855334 -1.327115  0.720352 -1.073925  1.273495\n",
       "6108  1.395526 -0.459448  0.570602  0.234267 -0.223380\n",
       "\n",
       "[6109 rows x 5 columns]"
      ]
     },
     "execution_count": 35,
     "metadata": {},
     "output_type": "execute_result"
    }
   ],
   "source": [
    "Bhumi"
   ]
  },
  {
   "cell_type": "code",
   "execution_count": 36,
   "metadata": {
    "id": "UM72Bbg8eVNM",
    "outputId": "bc5f2a88-b79b-4091-bb82-4be7d214f8e9"
   },
   "outputs": [
    {
     "data": {
      "text/plain": [
       "(6109, 5)"
      ]
     },
     "execution_count": 36,
     "metadata": {},
     "output_type": "execute_result"
    }
   ],
   "source": [
    "Bhumi.shape"
   ]
  },
  {
   "cell_type": "code",
   "execution_count": 37,
   "metadata": {
    "id": "GMRf2PdIeVNN",
    "outputId": "bb5a68cb-7400-4c1d-f30c-ceaf4ce440a8"
   },
   "outputs": [
    {
     "name": "stdout",
     "output_type": "stream",
     "text": [
      "[0.59881215 0.28228661 0.0531815  0.04386237 0.02185737]\n"
     ]
    }
   ],
   "source": [
    "print(pca.explained_variance_ratio_) "
   ]
  },
  {
   "cell_type": "code",
   "execution_count": 38,
   "metadata": {
    "id": "F1we66XKeVNN",
    "outputId": "18482ac9-3e54-4d3a-b3e1-28583a6d8452"
   },
   "outputs": [
    {
     "data": {
      "text/plain": [
       "PCA(n_components=3)"
      ]
     },
     "execution_count": 38,
     "metadata": {},
     "output_type": "execute_result"
    }
   ],
   "source": [
    "pca = PCA(n_components=3)\n",
    "pca.fit(Dhoni)"
   ]
  },
  {
   "cell_type": "code",
   "execution_count": 39,
   "metadata": {
    "id": "0-fzlLaBeVNN"
   },
   "outputs": [],
   "source": [
    "# save the model to disk\n",
    "filename = r'D:\\CV_datasets\\370x370\\PCA_3_Model.sav'\n",
    "pickle.dump(kmeans, open(filename, 'wb'))"
   ]
  },
  {
   "cell_type": "code",
   "execution_count": 40,
   "metadata": {
    "id": "hkmetwN1eVNN"
   },
   "outputs": [],
   "source": [
    "Bhumi = pca.transform(Dhoni)"
   ]
  },
  {
   "cell_type": "code",
   "execution_count": 41,
   "metadata": {
    "id": "B06DgdmDeVNO",
    "outputId": "dc368fe4-234b-4da3-ceac-43bb4919f9f3"
   },
   "outputs": [
    {
     "data": {
      "text/plain": [
       "array([[-2.26579303, -0.92947541,  0.31757879],\n",
       "       [-1.33736717, -0.07302029,  0.11402097],\n",
       "       [-2.71352598, -0.68397399,  0.3734981 ],\n",
       "       ...,\n",
       "       [ 1.69995343,  1.32201387, -0.11728996],\n",
       "       [ 3.85533437, -1.32711497,  0.7203519 ],\n",
       "       [ 1.39552621, -0.45944818,  0.57060244]])"
      ]
     },
     "execution_count": 41,
     "metadata": {},
     "output_type": "execute_result"
    }
   ],
   "source": [
    "Bhumi"
   ]
  },
  {
   "cell_type": "code",
   "execution_count": 42,
   "metadata": {
    "id": "J3tK1RI4eVNO",
    "outputId": "3216e5b2-d533-4027-9780-2ad1d1e9c7b9"
   },
   "outputs": [
    {
     "data": {
      "text/plain": [
       "(6109, 3)"
      ]
     },
     "execution_count": 42,
     "metadata": {},
     "output_type": "execute_result"
    }
   ],
   "source": [
    "Bhumi.shape"
   ]
  },
  {
   "cell_type": "code",
   "execution_count": 43,
   "metadata": {
    "id": "B2gfH0s0eVNO",
    "outputId": "8998f501-1166-4a61-d103-1d3f2719b571"
   },
   "outputs": [
    {
     "name": "stdout",
     "output_type": "stream",
     "text": [
      "[0.59881215 0.28228661 0.0531815 ]\n"
     ]
    }
   ],
   "source": [
    "print(pca.explained_variance_ratio_) "
   ]
  },
  {
   "cell_type": "code",
   "execution_count": 44,
   "metadata": {
    "id": "HRmEBt6HeVNO"
   },
   "outputs": [],
   "source": [
    "Bhumi = pd.DataFrame(Bhumi)"
   ]
  },
  {
   "cell_type": "code",
   "execution_count": 45,
   "metadata": {
    "id": "VDfu-VtyeVNO",
    "outputId": "7449317f-1fce-44c2-a6e4-f1ac0750dcf6"
   },
   "outputs": [
    {
     "data": {
      "text/html": [
       "<div>\n",
       "<style scoped>\n",
       "    .dataframe tbody tr th:only-of-type {\n",
       "        vertical-align: middle;\n",
       "    }\n",
       "\n",
       "    .dataframe tbody tr th {\n",
       "        vertical-align: top;\n",
       "    }\n",
       "\n",
       "    .dataframe thead th {\n",
       "        text-align: right;\n",
       "    }\n",
       "</style>\n",
       "<table border=\"1\" class=\"dataframe\">\n",
       "  <thead>\n",
       "    <tr style=\"text-align: right;\">\n",
       "      <th></th>\n",
       "      <th>0</th>\n",
       "      <th>1</th>\n",
       "      <th>2</th>\n",
       "    </tr>\n",
       "  </thead>\n",
       "  <tbody>\n",
       "    <tr>\n",
       "      <th>0</th>\n",
       "      <td>-2.265793</td>\n",
       "      <td>-0.929475</td>\n",
       "      <td>0.317579</td>\n",
       "    </tr>\n",
       "    <tr>\n",
       "      <th>1</th>\n",
       "      <td>-1.337367</td>\n",
       "      <td>-0.073020</td>\n",
       "      <td>0.114021</td>\n",
       "    </tr>\n",
       "    <tr>\n",
       "      <th>2</th>\n",
       "      <td>-2.713526</td>\n",
       "      <td>-0.683974</td>\n",
       "      <td>0.373498</td>\n",
       "    </tr>\n",
       "    <tr>\n",
       "      <th>3</th>\n",
       "      <td>-0.304338</td>\n",
       "      <td>-0.941356</td>\n",
       "      <td>0.346414</td>\n",
       "    </tr>\n",
       "    <tr>\n",
       "      <th>4</th>\n",
       "      <td>0.056356</td>\n",
       "      <td>-1.127336</td>\n",
       "      <td>0.460335</td>\n",
       "    </tr>\n",
       "    <tr>\n",
       "      <th>...</th>\n",
       "      <td>...</td>\n",
       "      <td>...</td>\n",
       "      <td>...</td>\n",
       "    </tr>\n",
       "    <tr>\n",
       "      <th>6104</th>\n",
       "      <td>-0.750104</td>\n",
       "      <td>2.055288</td>\n",
       "      <td>-0.167903</td>\n",
       "    </tr>\n",
       "    <tr>\n",
       "      <th>6105</th>\n",
       "      <td>-1.527581</td>\n",
       "      <td>0.818567</td>\n",
       "      <td>-0.209241</td>\n",
       "    </tr>\n",
       "    <tr>\n",
       "      <th>6106</th>\n",
       "      <td>1.699953</td>\n",
       "      <td>1.322014</td>\n",
       "      <td>-0.117290</td>\n",
       "    </tr>\n",
       "    <tr>\n",
       "      <th>6107</th>\n",
       "      <td>3.855334</td>\n",
       "      <td>-1.327115</td>\n",
       "      <td>0.720352</td>\n",
       "    </tr>\n",
       "    <tr>\n",
       "      <th>6108</th>\n",
       "      <td>1.395526</td>\n",
       "      <td>-0.459448</td>\n",
       "      <td>0.570602</td>\n",
       "    </tr>\n",
       "  </tbody>\n",
       "</table>\n",
       "<p>6109 rows × 3 columns</p>\n",
       "</div>"
      ],
      "text/plain": [
       "             0         1         2\n",
       "0    -2.265793 -0.929475  0.317579\n",
       "1    -1.337367 -0.073020  0.114021\n",
       "2    -2.713526 -0.683974  0.373498\n",
       "3    -0.304338 -0.941356  0.346414\n",
       "4     0.056356 -1.127336  0.460335\n",
       "...        ...       ...       ...\n",
       "6104 -0.750104  2.055288 -0.167903\n",
       "6105 -1.527581  0.818567 -0.209241\n",
       "6106  1.699953  1.322014 -0.117290\n",
       "6107  3.855334 -1.327115  0.720352\n",
       "6108  1.395526 -0.459448  0.570602\n",
       "\n",
       "[6109 rows x 3 columns]"
      ]
     },
     "execution_count": 45,
     "metadata": {},
     "output_type": "execute_result"
    }
   ],
   "source": [
    "Bhumi"
   ]
  },
  {
   "cell_type": "code",
   "execution_count": 46,
   "metadata": {
    "id": "xWad76LGeVNP"
   },
   "outputs": [],
   "source": [
    "B=pd.concat([Bhumi, pd.DataFrame(y)],axis=1)"
   ]
  },
  {
   "cell_type": "code",
   "execution_count": 47,
   "metadata": {
    "id": "qTkydk3meVNP",
    "outputId": "4f6402a5-0ad9-4eff-a45b-4499b7cb259c"
   },
   "outputs": [
    {
     "data": {
      "text/html": [
       "<div>\n",
       "<style scoped>\n",
       "    .dataframe tbody tr th:only-of-type {\n",
       "        vertical-align: middle;\n",
       "    }\n",
       "\n",
       "    .dataframe tbody tr th {\n",
       "        vertical-align: top;\n",
       "    }\n",
       "\n",
       "    .dataframe thead th {\n",
       "        text-align: right;\n",
       "    }\n",
       "</style>\n",
       "<table border=\"1\" class=\"dataframe\">\n",
       "  <thead>\n",
       "    <tr style=\"text-align: right;\">\n",
       "      <th></th>\n",
       "      <th>0</th>\n",
       "      <th>1</th>\n",
       "      <th>2</th>\n",
       "      <th>0</th>\n",
       "    </tr>\n",
       "  </thead>\n",
       "  <tbody>\n",
       "    <tr>\n",
       "      <th>0</th>\n",
       "      <td>-2.265793</td>\n",
       "      <td>-0.929475</td>\n",
       "      <td>0.317579</td>\n",
       "      <td>0</td>\n",
       "    </tr>\n",
       "    <tr>\n",
       "      <th>1</th>\n",
       "      <td>-1.337367</td>\n",
       "      <td>-0.073020</td>\n",
       "      <td>0.114021</td>\n",
       "      <td>0</td>\n",
       "    </tr>\n",
       "    <tr>\n",
       "      <th>2</th>\n",
       "      <td>-2.713526</td>\n",
       "      <td>-0.683974</td>\n",
       "      <td>0.373498</td>\n",
       "      <td>0</td>\n",
       "    </tr>\n",
       "    <tr>\n",
       "      <th>3</th>\n",
       "      <td>-0.304338</td>\n",
       "      <td>-0.941356</td>\n",
       "      <td>0.346414</td>\n",
       "      <td>0</td>\n",
       "    </tr>\n",
       "    <tr>\n",
       "      <th>4</th>\n",
       "      <td>0.056356</td>\n",
       "      <td>-1.127336</td>\n",
       "      <td>0.460335</td>\n",
       "      <td>0</td>\n",
       "    </tr>\n",
       "    <tr>\n",
       "      <th>...</th>\n",
       "      <td>...</td>\n",
       "      <td>...</td>\n",
       "      <td>...</td>\n",
       "      <td>...</td>\n",
       "    </tr>\n",
       "    <tr>\n",
       "      <th>6104</th>\n",
       "      <td>-0.750104</td>\n",
       "      <td>2.055288</td>\n",
       "      <td>-0.167903</td>\n",
       "      <td>1</td>\n",
       "    </tr>\n",
       "    <tr>\n",
       "      <th>6105</th>\n",
       "      <td>-1.527581</td>\n",
       "      <td>0.818567</td>\n",
       "      <td>-0.209241</td>\n",
       "      <td>1</td>\n",
       "    </tr>\n",
       "    <tr>\n",
       "      <th>6106</th>\n",
       "      <td>1.699953</td>\n",
       "      <td>1.322014</td>\n",
       "      <td>-0.117290</td>\n",
       "      <td>1</td>\n",
       "    </tr>\n",
       "    <tr>\n",
       "      <th>6107</th>\n",
       "      <td>3.855334</td>\n",
       "      <td>-1.327115</td>\n",
       "      <td>0.720352</td>\n",
       "      <td>1</td>\n",
       "    </tr>\n",
       "    <tr>\n",
       "      <th>6108</th>\n",
       "      <td>1.395526</td>\n",
       "      <td>-0.459448</td>\n",
       "      <td>0.570602</td>\n",
       "      <td>1</td>\n",
       "    </tr>\n",
       "  </tbody>\n",
       "</table>\n",
       "<p>6109 rows × 4 columns</p>\n",
       "</div>"
      ],
      "text/plain": [
       "             0         1         2  0\n",
       "0    -2.265793 -0.929475  0.317579  0\n",
       "1    -1.337367 -0.073020  0.114021  0\n",
       "2    -2.713526 -0.683974  0.373498  0\n",
       "3    -0.304338 -0.941356  0.346414  0\n",
       "4     0.056356 -1.127336  0.460335  0\n",
       "...        ...       ...       ... ..\n",
       "6104 -0.750104  2.055288 -0.167903  1\n",
       "6105 -1.527581  0.818567 -0.209241  1\n",
       "6106  1.699953  1.322014 -0.117290  1\n",
       "6107  3.855334 -1.327115  0.720352  1\n",
       "6108  1.395526 -0.459448  0.570602  1\n",
       "\n",
       "[6109 rows x 4 columns]"
      ]
     },
     "execution_count": 47,
     "metadata": {},
     "output_type": "execute_result"
    }
   ],
   "source": [
    "B"
   ]
  },
  {
   "cell_type": "code",
   "execution_count": 48,
   "metadata": {
    "id": "B1R5-6cMeVNP"
   },
   "outputs": [],
   "source": [
    "csv_data=B.to_csv(r'D:\\CV_datasets\\370x370\\final-PCA-FV.csv', mode='a',header=False,index=False)"
   ]
  },
  {
   "cell_type": "markdown",
   "metadata": {
    "id": "q9twiNcfeVNP"
   },
   "source": [
    "# Training ,Testing & Classification"
   ]
  },
  {
   "cell_type": "code",
   "execution_count": 49,
   "metadata": {
    "id": "HB91DxDUeVNP",
    "outputId": "6b04abe6-4d3a-49d4-a910-d1f1638d961f"
   },
   "outputs": [
    {
     "data": {
      "text/html": [
       "<div>\n",
       "<style scoped>\n",
       "    .dataframe tbody tr th:only-of-type {\n",
       "        vertical-align: middle;\n",
       "    }\n",
       "\n",
       "    .dataframe tbody tr th {\n",
       "        vertical-align: top;\n",
       "    }\n",
       "\n",
       "    .dataframe thead th {\n",
       "        text-align: right;\n",
       "    }\n",
       "</style>\n",
       "<table border=\"1\" class=\"dataframe\">\n",
       "  <thead>\n",
       "    <tr style=\"text-align: right;\">\n",
       "      <th></th>\n",
       "      <th>0</th>\n",
       "      <th>1</th>\n",
       "      <th>2</th>\n",
       "      <th>3</th>\n",
       "    </tr>\n",
       "  </thead>\n",
       "  <tbody>\n",
       "    <tr>\n",
       "      <th>0</th>\n",
       "      <td>-2.265793</td>\n",
       "      <td>-0.929475</td>\n",
       "      <td>0.317579</td>\n",
       "      <td>0</td>\n",
       "    </tr>\n",
       "    <tr>\n",
       "      <th>1</th>\n",
       "      <td>-1.337367</td>\n",
       "      <td>-0.073020</td>\n",
       "      <td>0.114021</td>\n",
       "      <td>0</td>\n",
       "    </tr>\n",
       "    <tr>\n",
       "      <th>2</th>\n",
       "      <td>-2.713526</td>\n",
       "      <td>-0.683974</td>\n",
       "      <td>0.373498</td>\n",
       "      <td>0</td>\n",
       "    </tr>\n",
       "    <tr>\n",
       "      <th>3</th>\n",
       "      <td>-0.304338</td>\n",
       "      <td>-0.941356</td>\n",
       "      <td>0.346414</td>\n",
       "      <td>0</td>\n",
       "    </tr>\n",
       "    <tr>\n",
       "      <th>4</th>\n",
       "      <td>0.056356</td>\n",
       "      <td>-1.127336</td>\n",
       "      <td>0.460335</td>\n",
       "      <td>0</td>\n",
       "    </tr>\n",
       "    <tr>\n",
       "      <th>...</th>\n",
       "      <td>...</td>\n",
       "      <td>...</td>\n",
       "      <td>...</td>\n",
       "      <td>...</td>\n",
       "    </tr>\n",
       "    <tr>\n",
       "      <th>6104</th>\n",
       "      <td>-0.750104</td>\n",
       "      <td>2.055288</td>\n",
       "      <td>-0.167903</td>\n",
       "      <td>1</td>\n",
       "    </tr>\n",
       "    <tr>\n",
       "      <th>6105</th>\n",
       "      <td>-1.527581</td>\n",
       "      <td>0.818567</td>\n",
       "      <td>-0.209241</td>\n",
       "      <td>1</td>\n",
       "    </tr>\n",
       "    <tr>\n",
       "      <th>6106</th>\n",
       "      <td>1.699953</td>\n",
       "      <td>1.322014</td>\n",
       "      <td>-0.117290</td>\n",
       "      <td>1</td>\n",
       "    </tr>\n",
       "    <tr>\n",
       "      <th>6107</th>\n",
       "      <td>3.855334</td>\n",
       "      <td>-1.327115</td>\n",
       "      <td>0.720352</td>\n",
       "      <td>1</td>\n",
       "    </tr>\n",
       "    <tr>\n",
       "      <th>6108</th>\n",
       "      <td>1.395526</td>\n",
       "      <td>-0.459448</td>\n",
       "      <td>0.570602</td>\n",
       "      <td>1</td>\n",
       "    </tr>\n",
       "  </tbody>\n",
       "</table>\n",
       "<p>6109 rows × 4 columns</p>\n",
       "</div>"
      ],
      "text/plain": [
       "             0         1         2  3\n",
       "0    -2.265793 -0.929475  0.317579  0\n",
       "1    -1.337367 -0.073020  0.114021  0\n",
       "2    -2.713526 -0.683974  0.373498  0\n",
       "3    -0.304338 -0.941356  0.346414  0\n",
       "4     0.056356 -1.127336  0.460335  0\n",
       "...        ...       ...       ... ..\n",
       "6104 -0.750104  2.055288 -0.167903  1\n",
       "6105 -1.527581  0.818567 -0.209241  1\n",
       "6106  1.699953  1.322014 -0.117290  1\n",
       "6107  3.855334 -1.327115  0.720352  1\n",
       "6108  1.395526 -0.459448  0.570602  1\n",
       "\n",
       "[6109 rows x 4 columns]"
      ]
     },
     "execution_count": 49,
     "metadata": {},
     "output_type": "execute_result"
    }
   ],
   "source": [
    "data= pd.read_csv(r'D:\\CV_datasets\\370x370\\final-PCA-FV.csv',header=None) ##D:/StrData/FinalPCAFV.csv\n",
    "\n",
    "data"
   ]
  },
  {
   "cell_type": "code",
   "execution_count": 50,
   "metadata": {
    "id": "4zhrTWeEeVNQ",
    "outputId": "d5f42769-3990-434e-b069-49d2d2030a11"
   },
   "outputs": [
    {
     "name": "stdout",
     "output_type": "stream",
     "text": [
      "X values\n",
      "[[-2.26579303 -0.92947541  0.31757879]\n",
      " [-1.33736717 -0.07302029  0.11402097]\n",
      " [-2.71352598 -0.68397399  0.3734981 ]\n",
      " ...\n",
      " [ 1.69995343  1.32201387 -0.11728996]\n",
      " [ 3.85533437 -1.32711497  0.7203519 ]\n",
      " [ 1.39552621 -0.45944818  0.57060244]]\n",
      "Y values\n",
      "0       0\n",
      "1       0\n",
      "2       0\n",
      "3       0\n",
      "4       0\n",
      "       ..\n",
      "6104    1\n",
      "6105    1\n",
      "6106    1\n",
      "6107    1\n",
      "6108    1\n",
      "Name: 3, Length: 6109, dtype: int64\n"
     ]
    }
   ],
   "source": [
    "#assigning x the columns from 1 to 128 for training\n",
    "x = data.iloc[:,0:3].values\n",
    "print(\"X values\")\n",
    "print(x)\n",
    "\n",
    "#assigning y with the column \"Class\" as target variable\n",
    "y = data.iloc[:,3]\n",
    "print(\"Y values\")\n",
    "print(y)"
   ]
  },
  {
   "cell_type": "code",
   "execution_count": 167,
   "metadata": {
    "id": "JHgKLZzIeVNQ"
   },
   "outputs": [],
   "source": [
    "#Dataset split into train and test with 80% Training and 20% Testing\n",
    "x_train, x_test, y_train, y_test = train_test_split(x, y, test_size=.20, random_state=0)"
   ]
  },
  {
   "cell_type": "markdown",
   "metadata": {},
   "source": [
    "# Decision Tree Classifier"
   ]
  },
  {
   "cell_type": "code",
   "execution_count": 168,
   "metadata": {
    "id": "vQST6mWKeVNQ",
    "outputId": "d99957db-fd7c-4536-e118-1815e8ffcc6e"
   },
   "outputs": [],
   "source": [
    "#Decision Tree Classifier\n",
    "from sklearn.metrics import accuracy_score\n",
    "#Assign model with Decision Tree classifier\n",
    "model1 = DecisionTreeClassifier(max_depth=13)\n",
    "filename = r'D:\\CV_datasets\\370x370\\model1.sav'\n",
    "pickle.dump(kmeans, open(filename, 'wb'))\n",
    "#training the model with the Training Variables \n",
    "model1.fit(x_train, y_train)\n",
    "#predicting the target variable using testing variables\n",
    "y_pred1 = model1.predict(x_test)\n",
    "#Results\n"
   ]
  },
  {
   "cell_type": "code",
   "execution_count": 169,
   "metadata": {},
   "outputs": [
    {
     "name": "stdout",
     "output_type": "stream",
     "text": [
      "Testing Accuracy  76.84124386252046\n",
      "Training Accuracy  93.34970329445468\n",
      "Precision Score: 0.7582781456953642\n",
      "Recall Score: 0.7697478991596639\n",
      "F1 Score: 0.7639699749791492\n",
      "Sensitivity: 0.7697478991596639\n",
      "Specificity: 0.7671451355661882\n"
     ]
    }
   ],
   "source": [
    "\n",
    "recall_sensitivity = metrics.recall_score(y_test,y_pred1, pos_label=1)\n",
    "recall_specificity= metrics.recall_score(y_test, y_pred1, pos_label=0)\n",
    "# print (\"Confusion Matrix : \\n\", cm)\n",
    "print(\"Testing Accuracy \",accuracy_score(y_test,y_pred1)*100)\n",
    "print(\"Training Accuracy \",accuracy_score(y_train,model1.predict(x_train))*100)\n",
    "print(\"Precision Score:\",metrics.precision_score(y_test, y_pred1))\n",
    "print(\"Recall Score:\",metrics.recall_score(y_test, y_pred1))\n",
    "print(\"F1 Score:\",metrics.f1_score(y_test, y_pred1))\n",
    "print(\"Sensitivity:\",recall_sensitivity)\n",
    "print(\"Specificity:\",recall_specificity)"
   ]
  },
  {
   "cell_type": "code",
   "execution_count": 170,
   "metadata": {
    "id": "R0jpXI6deVNQ",
    "outputId": "18a278b6-1546-470f-bce6-8353eddb6d0a"
   },
   "outputs": [
    {
     "name": "stdout",
     "output_type": "stream",
     "text": [
      "Descriptor Shape: (119, 128)\n",
      "Histogram:\n",
      "     0   1   2  3   4\n",
      "0  38  12  26  8  35\n"
     ]
    }
   ],
   "source": [
    "#Recognition &Validation\n",
    "#Assigning path with any any class image\n",
    "data=[]\n",
    "path=r\"C:\\Users\\ADMIN\\TY_ET_A3__63_65_77_Crowd_detection(before_resizing)\\crowd-detection_dataset\\104.jpg\"\n",
    "\n",
    "\n",
    "#Repeated the process of image pre-processing and feature extraction\n",
    "a=cv2.imread(path)\n",
    "#print(a.shape)\n",
    "if a is None:\n",
    "    print(\"X\")\n",
    "\n",
    "\n",
    "#resize image\n",
    "resize=(120,350)\n",
    "img=cv2.resize(a,resize)\n",
    "resultimage = np.zeros((100, 300))\n",
    "#normalizing the given image using normalize() function\n",
    "nimg = cv2.normalize(img,resultimage,0, 255, cv2.NORM_MINMAX)\n",
    "    \n",
    "gray = cv2.cvtColor(nimg, cv2.COLOR_BGR2GRAY)\n",
    "hist_image=cv2.equalizeHist(gray)\n",
    "\n",
    "#initialise sift descriptor\n",
    "sift = cv2.xfeatures2d.SIFT_create()\n",
    "keypoints, descriptors = sift.detectAndCompute(hist_image, None)\n",
    "\n",
    "#normalizing sift features \n",
    "#norm = Normalizer()\n",
    "#normalized = norm.fit_transform(descriptors)\n",
    "\n",
    "\n",
    "#convert the descriptor array into a dataframe format\n",
    "out=pd.DataFrame(descriptors)\n",
    "print(\"Descriptor Shape:\",out.shape)\n",
    "\n",
    "#initialise Kmeans and create 5 clusters\n",
    "\n",
    "\n",
    "#train the model for the features i.e. for all elements in the Dataframe\n",
    "array_double = np.array(out, dtype=np.double)\n",
    "a=kmeans.predict(array_double)\n",
    "\n",
    "#get the values of the histogram for one image only for 5 clusters i.e. in 5 bins\n",
    "#kmeans.labels_ give us the label vlaue of the feature that its clustered into\n",
    "#hist will give the histogram for all those vlaues\n",
    "hist=np.histogram(a,bins=[0,1,2,3,4,5])\n",
    "\n",
    "#append the dataframe into the array in append mode, the array will only have 5 values which will store the values in a row\n",
    "data.append(hist[0])\n",
    "\n",
    "Output = pd.DataFrame(data)\n",
    "print(\"Histogram:\\n\",Output)"
   ]
  },
  {
   "cell_type": "code",
   "execution_count": 171,
   "metadata": {
    "id": "96bhKluseVNV"
   },
   "outputs": [],
   "source": [
    "from sklearn.preprocessing import StandardScaler\n",
    "MuktaS = StandardScaler()\n",
    "Mukta = MuktaS.fit_transform(Output)"
   ]
  },
  {
   "cell_type": "code",
   "execution_count": 172,
   "metadata": {
    "id": "MAY0hEqReVNV",
    "outputId": "e602f125-4e51-4f62-9659-2a97ac51415f"
   },
   "outputs": [
    {
     "data": {
      "text/plain": [
       "array([[0., 0., 0., 0., 0.]])"
      ]
     },
     "execution_count": 172,
     "metadata": {},
     "output_type": "execute_result"
    }
   ],
   "source": [
    "Mukta"
   ]
  },
  {
   "cell_type": "code",
   "execution_count": 173,
   "metadata": {
    "id": "poO5BGt4eVNW",
    "outputId": "7f3f23cb-6560-4586-8513-6f156e15b576"
   },
   "outputs": [
    {
     "data": {
      "text/plain": [
       "(1, 5)"
      ]
     },
     "execution_count": 173,
     "metadata": {},
     "output_type": "execute_result"
    }
   ],
   "source": [
    "Mukta.shape"
   ]
  },
  {
   "cell_type": "code",
   "execution_count": 174,
   "metadata": {
    "id": "7Y_yLulgeVNW"
   },
   "outputs": [],
   "source": [
    "MB = pca.transform(Mukta)"
   ]
  },
  {
   "cell_type": "code",
   "execution_count": 175,
   "metadata": {
    "id": "LIGGkhsFeVNW",
    "outputId": "b7bb2e1c-8719-49f0-95ea-3d8c854e97a7"
   },
   "outputs": [
    {
     "data": {
      "text/plain": [
       "(1, 3)"
      ]
     },
     "execution_count": 175,
     "metadata": {},
     "output_type": "execute_result"
    }
   ],
   "source": [
    "MB.shape"
   ]
  },
  {
   "cell_type": "code",
   "execution_count": 176,
   "metadata": {
    "id": "3BY0ocVreVNW",
    "outputId": "e785f91e-d1ee-4932-9f18-65e314b2fa60"
   },
   "outputs": [
    {
     "data": {
      "text/plain": [
       "array([[2.80424505e-16, 1.98843220e-17, 6.48706463e-17]])"
      ]
     },
     "execution_count": 176,
     "metadata": {},
     "output_type": "execute_result"
    }
   ],
   "source": [
    "MB"
   ]
  },
  {
   "cell_type": "code",
   "execution_count": 177,
   "metadata": {
    "id": "GDGjVB4TeVNX",
    "outputId": "40a2ce82-e967-4d4e-bb76-a4b664d5cf99"
   },
   "outputs": [
    {
     "name": "stdout",
     "output_type": "stream",
     "text": [
      "[1]\n"
     ]
    }
   ],
   "source": [
    "#prediction\n",
    "y_preddt = model1.predict(MB)\n",
    "\n",
    "#prints the prediction of the class\n",
    "print(y_preddt)"
   ]
  },
  {
   "cell_type": "markdown",
   "metadata": {},
   "source": [
    "# SVM"
   ]
  },
  {
   "cell_type": "code",
   "execution_count": 178,
   "metadata": {
    "id": "SQARG9TleVNX"
   },
   "outputs": [],
   "source": [
    "from sklearn.svm import SVC\n",
    "DhoniSVM_LK = SVC(kernel='rbf')\n",
    "model5 = DhoniSVM_LK.fit(x_train, y_train)"
   ]
  },
  {
   "cell_type": "code",
   "execution_count": 179,
   "metadata": {
    "id": "AE8Fc3r_eVNX"
   },
   "outputs": [],
   "source": [
    "filename = r'D:\\CV_datasets\\370x370\\SVC_RBF_PCA_3.sav'\n",
    "pickle.dump(model5, open(filename, 'wb'))"
   ]
  },
  {
   "cell_type": "code",
   "execution_count": 180,
   "metadata": {
    "id": "9L9HRL8geVNX",
    "outputId": "47ca30f0-5ae3-47de-8d43-6923dc3c70ff"
   },
   "outputs": [
    {
     "data": {
      "text/plain": [
       "SVC()"
      ]
     },
     "execution_count": 180,
     "metadata": {},
     "output_type": "execute_result"
    }
   ],
   "source": [
    "model5"
   ]
  },
  {
   "cell_type": "code",
   "execution_count": 181,
   "metadata": {
    "id": "eX0VSZ-jeVNX"
   },
   "outputs": [],
   "source": [
    "y_pred5 = model5.predict(x_test)\n",
    "y_pred5"
   ]
  },
  {
   "cell_type": "code",
   "execution_count": 183,
   "metadata": {
    "id": "hdSci3ikeVNY"
   },
   "outputs": [],
   "source": [
    "from sklearn.metrics import confusion_matrix\n",
    "cm1=confusion_matrix(y_test, y_pred5)\n",
    "cm1"
   ]
  },
  {
   "cell_type": "code",
   "execution_count": 186,
   "metadata": {},
   "outputs": [
    {
     "name": "stdout",
     "output_type": "stream",
     "text": [
      "Testing Accuracy  83.38788870703763\n",
      "Training Accuracy  80.09003478616738\n",
      "Precision Score: 0.831081081081081\n",
      "Recall Score: 0.826890756302521\n",
      "F1 Score: 0.8289806234203875\n",
      "Sensitivity: 0.826890756302521\n",
      "Specificity: 0.8405103668261563\n"
     ]
    }
   ],
   "source": [
    "from sklearn.metrics import accuracy_score\n",
    "recall_sensitivity = metrics.recall_score(y_test,y_pred5, pos_label=1)\n",
    "recall_specificity= metrics.recall_score(y_test, y_pred5, pos_label=0)\n",
    "# print (\"Confusion Matrix : \\n\", cm)\n",
    "print(\"Testing Accuracy \",accuracy_score(y_test,y_pred5)*100)\n",
    "print(\"Training Accuracy \",accuracy_score(y_train,model5.predict(x_train))*100)\n",
    "print(\"Precision Score:\",metrics.precision_score(y_test, y_pred5))\n",
    "print(\"Recall Score:\",metrics.recall_score(y_test, y_pred5))\n",
    "print(\"F1 Score:\",metrics.f1_score(y_test, y_pred5))\n",
    "print(\"Sensitivity:\",recall_sensitivity)\n",
    "print(\"Specificity:\",recall_specificity)"
   ]
  },
  {
   "cell_type": "code",
   "execution_count": 187,
   "metadata": {
    "id": "rIC0F6zBeVNY",
    "outputId": "05907178-dd01-41f0-ac3a-32470720b923"
   },
   "outputs": [
    {
     "name": "stdout",
     "output_type": "stream",
     "text": [
      "[0]\n"
     ]
    }
   ],
   "source": [
    "#y_pred1 = model1.predict(MB) \n",
    "y_predsvm =model5.predict(MB) \n",
    "\n",
    "#prints the prediction of the class\n",
    "print(y_predsvm)"
   ]
  },
  {
   "cell_type": "code",
   "execution_count": 201,
   "metadata": {},
   "outputs": [
    {
     "data": {
      "text/plain": [
       "SVC(kernel='linear')"
      ]
     },
     "execution_count": 201,
     "metadata": {},
     "output_type": "execute_result"
    }
   ],
   "source": [
    "model6 = SVC(kernel='linear')\n",
    "model6.fit(x_train, y_train)"
   ]
  },
  {
   "cell_type": "code",
   "execution_count": 202,
   "metadata": {},
   "outputs": [],
   "source": [
    "y_pred6 = model6.predict(x_test)"
   ]
  },
  {
   "cell_type": "code",
   "execution_count": 203,
   "metadata": {},
   "outputs": [
    {
     "name": "stdout",
     "output_type": "stream",
     "text": [
      "Testing Accuracy  82.65139116202947\n",
      "Training Accuracy  79.94679762635563\n",
      "Precision Score: 0.8207705192629816\n",
      "Recall Score: 0.8235294117647058\n",
      "F1 Score: 0.8221476510067114\n",
      "Sensitivity: 0.8235294117647058\n",
      "Specificity: 0.8293460925039873\n"
     ]
    }
   ],
   "source": [
    "from sklearn.metrics import accuracy_score\n",
    "recall_sensitivity = metrics.recall_score(y_test,y_pred6, pos_label=1)\n",
    "recall_specificity= metrics.recall_score(y_test, y_pred6, pos_label=0)\n",
    "# print (\"Confusion Matrix : \\n\", cm)\n",
    "print(\"Testing Accuracy \",accuracy_score(y_test,y_pred6)*100)\n",
    "print(\"Training Accuracy \",accuracy_score(y_train,model6.predict(x_train))*100)\n",
    "print(\"Precision Score:\",metrics.precision_score(y_test, y_pred6))\n",
    "print(\"Recall Score:\",metrics.recall_score(y_test, y_pred6))\n",
    "print(\"F1 Score:\",metrics.f1_score(y_test, y_pred6))\n",
    "print(\"Sensitivity:\",recall_sensitivity)\n",
    "print(\"Specificity:\",recall_specificity)"
   ]
  },
  {
   "cell_type": "code",
   "execution_count": 204,
   "metadata": {},
   "outputs": [
    {
     "data": {
      "text/plain": [
       "SVC(kernel='poly')"
      ]
     },
     "execution_count": 204,
     "metadata": {},
     "output_type": "execute_result"
    }
   ],
   "source": [
    "model7 = SVC(kernel='poly')\n",
    "model7.fit(x_train, y_train)"
   ]
  },
  {
   "cell_type": "code",
   "execution_count": 205,
   "metadata": {},
   "outputs": [],
   "source": [
    "y_pred7 = model7.predict(x_test)"
   ]
  },
  {
   "cell_type": "code",
   "execution_count": 206,
   "metadata": {},
   "outputs": [
    {
     "name": "stdout",
     "output_type": "stream",
     "text": [
      "Testing Accuracy  79.95090016366612\n",
      "Training Accuracy  77.92101493758953\n",
      "Precision Score: 0.85\n",
      "Recall Score: 0.7142857142857143\n",
      "F1 Score: 0.776255707762557\n",
      "Sensitivity: 0.7142857142857143\n",
      "Specificity: 0.8803827751196173\n"
     ]
    }
   ],
   "source": [
    "from sklearn.metrics import accuracy_score\n",
    "recall_sensitivity = metrics.recall_score(y_test,y_pred7, pos_label=1)\n",
    "recall_specificity= metrics.recall_score(y_test, y_pred7, pos_label=0)\n",
    "# print (\"Confusion Matrix : \\n\", cm)\n",
    "print(\"Testing Accuracy \",accuracy_score(y_test,y_pred7)*100)\n",
    "print(\"Training Accuracy \",accuracy_score(y_train,model7.predict(x_train))*100)\n",
    "print(\"Precision Score:\",metrics.precision_score(y_test, y_pred7))\n",
    "print(\"Recall Score:\",metrics.recall_score(y_test, y_pred7))\n",
    "print(\"F1 Score:\",metrics.f1_score(y_test, y_pred7))\n",
    "print(\"Sensitivity:\",recall_sensitivity)\n",
    "print(\"Specificity:\",recall_specificity)"
   ]
  },
  {
   "cell_type": "markdown",
   "metadata": {},
   "source": [
    "# Random Forest"
   ]
  },
  {
   "cell_type": "code",
   "execution_count": 188,
   "metadata": {
    "id": "KqCSbf3aeVNZ"
   },
   "outputs": [],
   "source": [
    "#Random Forest CLassifier\n",
    "from sklearn.ensemble import RandomForestClassifier\n",
    "from sklearn.metrics import accuracy_score\n",
    "#Assign model with Decision Tree classifier\n",
    "model4 = RandomForestClassifier(n_estimators=100, criterion='entropy', max_depth=None, min_samples_split=2,\n",
    "                                min_samples_leaf=1, min_weight_fraction_leaf=0.0, max_features='log2',\n",
    "                                max_leaf_nodes=None, min_impurity_decrease=0.0, bootstrap=True, oob_score=False, \n",
    "                                n_jobs=None, random_state=2, verbose=0, warm_start=False, class_weight=None, \n",
    "                                ccp_alpha=0.0, max_samples=None)\n",
    "filename = r'D:\\CV_datasets\\370x370\\model4.sav'\n",
    "pickle.dump(kmeans, open(filename, 'wb'))\n",
    "#training the model with the Training Variables \n",
    "model4.fit(x_train, y_train)\n",
    "#predicting the traget variable using testing variables\n",
    "y_pred4 = model4.predict(x_test)\n",
    "#Results\n",
    "#print(y_pred4)"
   ]
  },
  {
   "cell_type": "code",
   "execution_count": 189,
   "metadata": {},
   "outputs": [
    {
     "name": "stdout",
     "output_type": "stream",
     "text": [
      "Testing Accuracy  81.99672667757774\n",
      "Training Accuracy  99.87722529158994\n",
      "Precision Score: 0.8161888701517707\n",
      "Recall Score: 0.8134453781512605\n",
      "F1 Score: 0.8148148148148147\n",
      "Sensitivity: 0.8134453781512605\n",
      "Specificity: 0.8261562998405104\n"
     ]
    }
   ],
   "source": [
    "recall_sensitivity = metrics.recall_score(y_test,y_pred4, pos_label=1)\n",
    "recall_specificity= metrics.recall_score(y_test, y_pred4, pos_label=0)\n",
    "# print (\"Confusion Matrix : \\n\", cm)\n",
    "print(\"Testing Accuracy \",accuracy_score(y_test,y_pred4)*100)\n",
    "print(\"Training Accuracy \",accuracy_score(y_train,model4.predict(x_train))*100)\n",
    "print(\"Precision Score:\",metrics.precision_score(y_test, y_pred4))\n",
    "print(\"Recall Score:\",metrics.recall_score(y_test, y_pred4))\n",
    "print(\"F1 Score:\",metrics.f1_score(y_test, y_pred4))\n",
    "print(\"Sensitivity:\",recall_sensitivity)\n",
    "print(\"Specificity:\",recall_specificity)"
   ]
  },
  {
   "cell_type": "code",
   "execution_count": 190,
   "metadata": {},
   "outputs": [
    {
     "name": "stdout",
     "output_type": "stream",
     "text": [
      "[0]\n"
     ]
    }
   ],
   "source": [
    "y_predRF = model4.predict(MB)\n",
    "\n",
    "#prints the prediction of the class\n",
    "print(y_predRF)"
   ]
  },
  {
   "cell_type": "markdown",
   "metadata": {},
   "source": [
    "# KNN"
   ]
  },
  {
   "cell_type": "code",
   "execution_count": 192,
   "metadata": {},
   "outputs": [
    {
     "data": {
      "text/plain": [
       "KNeighborsClassifier()"
      ]
     },
     "execution_count": 192,
     "metadata": {},
     "output_type": "execute_result"
    }
   ],
   "source": [
    "from sklearn.neighbors import KNeighborsClassifier\n",
    "model2 = KNeighborsClassifier(n_neighbors = 5, metric = 'minkowski', p = 2)\n",
    "model2.fit(x_train, y_train)"
   ]
  },
  {
   "cell_type": "code",
   "execution_count": 193,
   "metadata": {},
   "outputs": [],
   "source": [
    "y_pred2 = model2.predict(x_test)"
   ]
  },
  {
   "cell_type": "code",
   "execution_count": 194,
   "metadata": {},
   "outputs": [
    {
     "name": "stdout",
     "output_type": "stream",
     "text": [
      "Testing Accuracy  80.36006546644845\n",
      "Training Accuracy  83.48680171884591\n",
      "Precision Score: 0.7953410981697171\n",
      "Recall Score: 0.8033613445378152\n",
      "F1 Score: 0.7993311036789298\n",
      "Sensitivity: 0.8033613445378152\n",
      "Specificity: 0.8038277511961722\n"
     ]
    }
   ],
   "source": [
    "recall_sensitivity = metrics.recall_score(y_test,y_pred2, pos_label=1)\n",
    "recall_specificity= metrics.recall_score(y_test, y_pred2, pos_label=0)\n",
    "# print (\"Confusion Matrix : \\n\", cm)\n",
    "print(\"Testing Accuracy \",accuracy_score(y_test,y_pred2)*100)\n",
    "print(\"Training Accuracy \",accuracy_score(y_train,model2.predict(x_train))*100)\n",
    "print(\"Precision Score:\",metrics.precision_score(y_test, y_pred2))\n",
    "print(\"Recall Score:\",metrics.recall_score(y_test, y_pred2))\n",
    "print(\"F1 Score:\",metrics.f1_score(y_test, y_pred2))\n",
    "print(\"Sensitivity:\",recall_sensitivity)\n",
    "print(\"Specificity:\",recall_specificity)"
   ]
  },
  {
   "cell_type": "code",
   "execution_count": 195,
   "metadata": {},
   "outputs": [],
   "source": [
    "from sklearn.metrics import confusion_matrix,accuracy_score\n",
    "cm = confusion_matrix(y_test, y_pred2)"
   ]
  },
  {
   "cell_type": "code",
   "execution_count": 196,
   "metadata": {},
   "outputs": [
    {
     "name": "stdout",
     "output_type": "stream",
     "text": [
      "[1]\n"
     ]
    }
   ],
   "source": [
    "y_predknn = model2.predict(MB)\n",
    "\n",
    "#prints the prediction of the class\n",
    "print(y_predknn)"
   ]
  },
  {
   "cell_type": "markdown",
   "metadata": {},
   "source": [
    "# Logistic Regression"
   ]
  },
  {
   "cell_type": "code",
   "execution_count": 197,
   "metadata": {},
   "outputs": [
    {
     "data": {
      "text/plain": [
       "LogisticRegression(random_state=0)"
      ]
     },
     "execution_count": 197,
     "metadata": {},
     "output_type": "execute_result"
    }
   ],
   "source": [
    "from sklearn.linear_model import LogisticRegression\n",
    "model3 = LogisticRegression(random_state = 0)\n",
    "model3.fit(x_train, y_train)"
   ]
  },
  {
   "cell_type": "code",
   "execution_count": 198,
   "metadata": {},
   "outputs": [],
   "source": [
    "y_pred3 = model3.predict(x_test)"
   ]
  },
  {
   "cell_type": "code",
   "execution_count": 199,
   "metadata": {},
   "outputs": [
    {
     "name": "stdout",
     "output_type": "stream",
     "text": [
      "Testing Accuracy  82.40589198036007\n",
      "Training Accuracy  79.78309801514222\n",
      "Precision Score: 0.8135313531353136\n",
      "Recall Score: 0.8285714285714286\n",
      "F1 Score: 0.8209825145711906\n",
      "Sensitivity: 0.8285714285714286\n",
      "Specificity: 0.8197767145135566\n"
     ]
    }
   ],
   "source": [
    "from sklearn.metrics import confusion_matrix\n",
    "cm = confusion_matrix(y_test, y_pred3)\n",
    "recall_sensitivity = metrics.recall_score(y_test,y_pred3, pos_label=1)\n",
    "recall_specificity= metrics.recall_score(y_test, y_pred3, pos_label=0)\n",
    "# print (\"Confusion Matrix : \\n\", cm)\n",
    "print(\"Testing Accuracy \",accuracy_score(y_test,y_pred3)*100)\n",
    "print(\"Training Accuracy \",accuracy_score(y_train,model3.predict(x_train))*100)\n",
    "print(\"Precision Score:\",metrics.precision_score(y_test, y_pred3))\n",
    "print(\"Recall Score:\",metrics.recall_score(y_test, y_pred3))\n",
    "print(\"F1 Score:\",metrics.f1_score(y_test, y_pred3))\n",
    "print(\"Sensitivity:\",recall_sensitivity)\n",
    "print(\"Specificity:\",recall_specificity)"
   ]
  },
  {
   "cell_type": "code",
   "execution_count": 200,
   "metadata": {},
   "outputs": [
    {
     "name": "stdout",
     "output_type": "stream",
     "text": [
      "[1]\n"
     ]
    }
   ],
   "source": [
    "y_predlr = model3.predict(MB)\n",
    "\n",
    "#prints the prediction of the class\n",
    "print(y_predlr)"
   ]
  }
 ],
 "metadata": {
  "colab": {
   "name": "Copy of 18-PROJECT-SIFT-KMEANS-PCA-SVM.ipynb",
   "provenance": []
  },
  "kernelspec": {
   "display_name": "Python 3 (ipykernel)",
   "language": "python",
   "name": "python3"
  },
  "language_info": {
   "codemirror_mode": {
    "name": "ipython",
    "version": 3
   },
   "file_extension": ".py",
   "mimetype": "text/x-python",
   "name": "python",
   "nbconvert_exporter": "python",
   "pygments_lexer": "ipython3",
   "version": "3.8.11"
  }
 },
 "nbformat": 4,
 "nbformat_minor": 1
}
